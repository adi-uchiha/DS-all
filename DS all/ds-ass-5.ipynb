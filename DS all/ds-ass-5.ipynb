{
 "cells": [
  {
   "cell_type": "code",
   "execution_count": 1,
   "id": "ec6bdb91",
   "metadata": {
    "_cell_guid": "b1076dfc-b9ad-4769-8c92-a6c4dae69d19",
    "_uuid": "8f2839f25d086af736a60e9eeb907d3b93b6e0e5",
    "execution": {
     "iopub.execute_input": "2024-05-08T11:00:46.460787Z",
     "iopub.status.busy": "2024-05-08T11:00:46.460268Z",
     "iopub.status.idle": "2024-05-08T11:00:48.989344Z",
     "shell.execute_reply": "2024-05-08T11:00:48.987975Z"
    },
    "papermill": {
     "duration": 2.543064,
     "end_time": "2024-05-08T11:00:48.993331",
     "exception": false,
     "start_time": "2024-05-08T11:00:46.450267",
     "status": "completed"
    },
    "tags": []
   },
   "outputs": [],
   "source": [
    "import numpy as np\n",
    "import pandas as pd\n",
    "import matplotlib.pyplot as plt\n",
    "from sklearn.linear_model import LogisticRegression\n",
    "from sklearn.preprocessing import StandardScaler\n",
    "from sklearn.model_selection import train_test_split\n",
    "from sklearn.metrics import ConfusionMatrixDisplay, confusion_matrix, classification_report, accuracy_score"
   ]
  },
  {
   "cell_type": "code",
   "execution_count": 2,
   "id": "0bcefac0",
   "metadata": {
    "execution": {
     "iopub.execute_input": "2024-05-08T11:00:49.013068Z",
     "iopub.status.busy": "2024-05-08T11:00:49.011186Z",
     "iopub.status.idle": "2024-05-08T11:00:49.068582Z",
     "shell.execute_reply": "2024-05-08T11:00:49.067266Z"
    },
    "papermill": {
     "duration": 0.071668,
     "end_time": "2024-05-08T11:00:49.071469",
     "exception": false,
     "start_time": "2024-05-08T11:00:48.999801",
     "status": "completed"
    },
    "tags": []
   },
   "outputs": [
    {
     "data": {
      "text/html": [
       "<div>\n",
       "<style scoped>\n",
       "    .dataframe tbody tr th:only-of-type {\n",
       "        vertical-align: middle;\n",
       "    }\n",
       "\n",
       "    .dataframe tbody tr th {\n",
       "        vertical-align: top;\n",
       "    }\n",
       "\n",
       "    .dataframe thead th {\n",
       "        text-align: right;\n",
       "    }\n",
       "</style>\n",
       "<table border=\"1\" class=\"dataframe\">\n",
       "  <thead>\n",
       "    <tr style=\"text-align: right;\">\n",
       "      <th></th>\n",
       "      <th>User ID</th>\n",
       "      <th>Gender</th>\n",
       "      <th>Age</th>\n",
       "      <th>EstimatedSalary</th>\n",
       "      <th>Purchased</th>\n",
       "    </tr>\n",
       "  </thead>\n",
       "  <tbody>\n",
       "    <tr>\n",
       "      <th>0</th>\n",
       "      <td>15624510</td>\n",
       "      <td>Male</td>\n",
       "      <td>19</td>\n",
       "      <td>19000</td>\n",
       "      <td>0</td>\n",
       "    </tr>\n",
       "    <tr>\n",
       "      <th>1</th>\n",
       "      <td>15810944</td>\n",
       "      <td>Male</td>\n",
       "      <td>35</td>\n",
       "      <td>20000</td>\n",
       "      <td>0</td>\n",
       "    </tr>\n",
       "    <tr>\n",
       "      <th>2</th>\n",
       "      <td>15668575</td>\n",
       "      <td>Female</td>\n",
       "      <td>26</td>\n",
       "      <td>43000</td>\n",
       "      <td>0</td>\n",
       "    </tr>\n",
       "    <tr>\n",
       "      <th>3</th>\n",
       "      <td>15603246</td>\n",
       "      <td>Female</td>\n",
       "      <td>27</td>\n",
       "      <td>57000</td>\n",
       "      <td>0</td>\n",
       "    </tr>\n",
       "    <tr>\n",
       "      <th>4</th>\n",
       "      <td>15804002</td>\n",
       "      <td>Male</td>\n",
       "      <td>19</td>\n",
       "      <td>76000</td>\n",
       "      <td>0</td>\n",
       "    </tr>\n",
       "    <tr>\n",
       "      <th>...</th>\n",
       "      <td>...</td>\n",
       "      <td>...</td>\n",
       "      <td>...</td>\n",
       "      <td>...</td>\n",
       "      <td>...</td>\n",
       "    </tr>\n",
       "    <tr>\n",
       "      <th>395</th>\n",
       "      <td>15691863</td>\n",
       "      <td>Female</td>\n",
       "      <td>46</td>\n",
       "      <td>41000</td>\n",
       "      <td>1</td>\n",
       "    </tr>\n",
       "    <tr>\n",
       "      <th>396</th>\n",
       "      <td>15706071</td>\n",
       "      <td>Male</td>\n",
       "      <td>51</td>\n",
       "      <td>23000</td>\n",
       "      <td>1</td>\n",
       "    </tr>\n",
       "    <tr>\n",
       "      <th>397</th>\n",
       "      <td>15654296</td>\n",
       "      <td>Female</td>\n",
       "      <td>50</td>\n",
       "      <td>20000</td>\n",
       "      <td>1</td>\n",
       "    </tr>\n",
       "    <tr>\n",
       "      <th>398</th>\n",
       "      <td>15755018</td>\n",
       "      <td>Male</td>\n",
       "      <td>36</td>\n",
       "      <td>33000</td>\n",
       "      <td>0</td>\n",
       "    </tr>\n",
       "    <tr>\n",
       "      <th>399</th>\n",
       "      <td>15594041</td>\n",
       "      <td>Female</td>\n",
       "      <td>49</td>\n",
       "      <td>36000</td>\n",
       "      <td>1</td>\n",
       "    </tr>\n",
       "  </tbody>\n",
       "</table>\n",
       "<p>400 rows × 5 columns</p>\n",
       "</div>"
      ],
      "text/plain": [
       "      User ID  Gender  Age  EstimatedSalary  Purchased\n",
       "0    15624510    Male   19            19000          0\n",
       "1    15810944    Male   35            20000          0\n",
       "2    15668575  Female   26            43000          0\n",
       "3    15603246  Female   27            57000          0\n",
       "4    15804002    Male   19            76000          0\n",
       "..        ...     ...  ...              ...        ...\n",
       "395  15691863  Female   46            41000          1\n",
       "396  15706071    Male   51            23000          1\n",
       "397  15654296  Female   50            20000          1\n",
       "398  15755018    Male   36            33000          0\n",
       "399  15594041  Female   49            36000          1\n",
       "\n",
       "[400 rows x 5 columns]"
      ]
     },
     "execution_count": 2,
     "metadata": {},
     "output_type": "execute_result"
    }
   ],
   "source": [
    "file = pd.read_csv('/kaggle/input/social-network-ads/Social_Network_Ads.csv')\n",
    "file"
   ]
  },
  {
   "cell_type": "markdown",
   "id": "b59d2c25",
   "metadata": {
    "papermill": {
     "duration": 0.006953,
     "end_time": "2024-05-08T11:00:49.085379",
     "exception": false,
     "start_time": "2024-05-08T11:00:49.078426",
     "status": "completed"
    },
    "tags": []
   },
   "source": [
    "Label encoding:- Converting categorical data into numerical data"
   ]
  },
  {
   "cell_type": "code",
   "execution_count": 3,
   "id": "a8c0c1c7",
   "metadata": {
    "execution": {
     "iopub.execute_input": "2024-05-08T11:00:49.103090Z",
     "iopub.status.busy": "2024-05-08T11:00:49.102122Z",
     "iopub.status.idle": "2024-05-08T11:00:49.122790Z",
     "shell.execute_reply": "2024-05-08T11:00:49.121572Z"
    },
    "papermill": {
     "duration": 0.032324,
     "end_time": "2024-05-08T11:00:49.125913",
     "exception": false,
     "start_time": "2024-05-08T11:00:49.093589",
     "status": "completed"
    },
    "tags": []
   },
   "outputs": [
    {
     "data": {
      "text/html": [
       "<div>\n",
       "<style scoped>\n",
       "    .dataframe tbody tr th:only-of-type {\n",
       "        vertical-align: middle;\n",
       "    }\n",
       "\n",
       "    .dataframe tbody tr th {\n",
       "        vertical-align: top;\n",
       "    }\n",
       "\n",
       "    .dataframe thead th {\n",
       "        text-align: right;\n",
       "    }\n",
       "</style>\n",
       "<table border=\"1\" class=\"dataframe\">\n",
       "  <thead>\n",
       "    <tr style=\"text-align: right;\">\n",
       "      <th></th>\n",
       "      <th>Age</th>\n",
       "      <th>EstimatedSalary</th>\n",
       "      <th>Purchased</th>\n",
       "      <th>Male</th>\n",
       "    </tr>\n",
       "  </thead>\n",
       "  <tbody>\n",
       "    <tr>\n",
       "      <th>0</th>\n",
       "      <td>19</td>\n",
       "      <td>19000</td>\n",
       "      <td>0</td>\n",
       "      <td>1</td>\n",
       "    </tr>\n",
       "    <tr>\n",
       "      <th>1</th>\n",
       "      <td>35</td>\n",
       "      <td>20000</td>\n",
       "      <td>0</td>\n",
       "      <td>1</td>\n",
       "    </tr>\n",
       "    <tr>\n",
       "      <th>2</th>\n",
       "      <td>26</td>\n",
       "      <td>43000</td>\n",
       "      <td>0</td>\n",
       "      <td>0</td>\n",
       "    </tr>\n",
       "    <tr>\n",
       "      <th>3</th>\n",
       "      <td>27</td>\n",
       "      <td>57000</td>\n",
       "      <td>0</td>\n",
       "      <td>0</td>\n",
       "    </tr>\n",
       "    <tr>\n",
       "      <th>4</th>\n",
       "      <td>19</td>\n",
       "      <td>76000</td>\n",
       "      <td>0</td>\n",
       "      <td>1</td>\n",
       "    </tr>\n",
       "    <tr>\n",
       "      <th>...</th>\n",
       "      <td>...</td>\n",
       "      <td>...</td>\n",
       "      <td>...</td>\n",
       "      <td>...</td>\n",
       "    </tr>\n",
       "    <tr>\n",
       "      <th>395</th>\n",
       "      <td>46</td>\n",
       "      <td>41000</td>\n",
       "      <td>1</td>\n",
       "      <td>0</td>\n",
       "    </tr>\n",
       "    <tr>\n",
       "      <th>396</th>\n",
       "      <td>51</td>\n",
       "      <td>23000</td>\n",
       "      <td>1</td>\n",
       "      <td>1</td>\n",
       "    </tr>\n",
       "    <tr>\n",
       "      <th>397</th>\n",
       "      <td>50</td>\n",
       "      <td>20000</td>\n",
       "      <td>1</td>\n",
       "      <td>0</td>\n",
       "    </tr>\n",
       "    <tr>\n",
       "      <th>398</th>\n",
       "      <td>36</td>\n",
       "      <td>33000</td>\n",
       "      <td>0</td>\n",
       "      <td>1</td>\n",
       "    </tr>\n",
       "    <tr>\n",
       "      <th>399</th>\n",
       "      <td>49</td>\n",
       "      <td>36000</td>\n",
       "      <td>1</td>\n",
       "      <td>0</td>\n",
       "    </tr>\n",
       "  </tbody>\n",
       "</table>\n",
       "<p>400 rows × 4 columns</p>\n",
       "</div>"
      ],
      "text/plain": [
       "     Age  EstimatedSalary  Purchased  Male\n",
       "0     19            19000          0     1\n",
       "1     35            20000          0     1\n",
       "2     26            43000          0     0\n",
       "3     27            57000          0     0\n",
       "4     19            76000          0     1\n",
       "..   ...              ...        ...   ...\n",
       "395   46            41000          1     0\n",
       "396   51            23000          1     1\n",
       "397   50            20000          1     0\n",
       "398   36            33000          0     1\n",
       "399   49            36000          1     0\n",
       "\n",
       "[400 rows x 4 columns]"
      ]
     },
     "execution_count": 3,
     "metadata": {},
     "output_type": "execute_result"
    }
   ],
   "source": [
    "mapping = {'Male': 1, 'Female': 0}\n",
    "file['Male'] = file['Gender'].map(mapping)\n",
    "file = file.drop(['User ID', 'Gender'], axis=1)\n",
    "file"
   ]
  },
  {
   "cell_type": "markdown",
   "id": "bf9c9c93",
   "metadata": {
    "papermill": {
     "duration": 0.007314,
     "end_time": "2024-05-08T11:00:49.140391",
     "exception": false,
     "start_time": "2024-05-08T11:00:49.133077",
     "status": "completed"
    },
    "tags": []
   },
   "source": [
    "## Regression Model"
   ]
  },
  {
   "cell_type": "code",
   "execution_count": 4,
   "id": "41a7a63c",
   "metadata": {
    "execution": {
     "iopub.execute_input": "2024-05-08T11:00:49.156699Z",
     "iopub.status.busy": "2024-05-08T11:00:49.156254Z",
     "iopub.status.idle": "2024-05-08T11:00:49.165130Z",
     "shell.execute_reply": "2024-05-08T11:00:49.163578Z"
    },
    "papermill": {
     "duration": 0.020238,
     "end_time": "2024-05-08T11:00:49.167729",
     "exception": false,
     "start_time": "2024-05-08T11:00:49.147491",
     "status": "completed"
    },
    "tags": []
   },
   "outputs": [],
   "source": [
    "X = file[['Age', 'Male', 'EstimatedSalary']]\n",
    "Y = file['Purchased']\n"
   ]
  },
  {
   "cell_type": "code",
   "execution_count": 5,
   "id": "bf936096",
   "metadata": {
    "execution": {
     "iopub.execute_input": "2024-05-08T11:00:49.184086Z",
     "iopub.status.busy": "2024-05-08T11:00:49.183649Z",
     "iopub.status.idle": "2024-05-08T11:00:49.194707Z",
     "shell.execute_reply": "2024-05-08T11:00:49.193344Z"
    },
    "papermill": {
     "duration": 0.022474,
     "end_time": "2024-05-08T11:00:49.197266",
     "exception": false,
     "start_time": "2024-05-08T11:00:49.174792",
     "status": "completed"
    },
    "tags": []
   },
   "outputs": [],
   "source": [
    "X_train, X_test, Y_train, Y_test = train_test_split(X, Y, test_size = 0.2, random_state=42)"
   ]
  },
  {
   "cell_type": "markdown",
   "id": "265ab146",
   "metadata": {
    "papermill": {
     "duration": 0.00656,
     "end_time": "2024-05-08T11:00:49.210952",
     "exception": false,
     "start_time": "2024-05-08T11:00:49.204392",
     "status": "completed"
    },
    "tags": []
   },
   "source": [
    "### Standardization"
   ]
  },
  {
   "cell_type": "code",
   "execution_count": 6,
   "id": "cc71c0ec",
   "metadata": {
    "execution": {
     "iopub.execute_input": "2024-05-08T11:00:49.227070Z",
     "iopub.status.busy": "2024-05-08T11:00:49.226392Z",
     "iopub.status.idle": "2024-05-08T11:00:49.238672Z",
     "shell.execute_reply": "2024-05-08T11:00:49.237378Z"
    },
    "papermill": {
     "duration": 0.023916,
     "end_time": "2024-05-08T11:00:49.241787",
     "exception": false,
     "start_time": "2024-05-08T11:00:49.217871",
     "status": "completed"
    },
    "tags": []
   },
   "outputs": [],
   "source": [
    "scale = StandardScaler()\n",
    "X_train = scale.fit_transform(X_train)\n",
    "X_test = scale.transform(X_test)"
   ]
  },
  {
   "cell_type": "code",
   "execution_count": 7,
   "id": "72ca8b5a",
   "metadata": {
    "execution": {
     "iopub.execute_input": "2024-05-08T11:00:49.257684Z",
     "iopub.status.busy": "2024-05-08T11:00:49.257204Z",
     "iopub.status.idle": "2024-05-08T11:00:49.278649Z",
     "shell.execute_reply": "2024-05-08T11:00:49.277244Z"
    },
    "papermill": {
     "duration": 0.032335,
     "end_time": "2024-05-08T11:00:49.281170",
     "exception": false,
     "start_time": "2024-05-08T11:00:49.248835",
     "status": "completed"
    },
    "tags": []
   },
   "outputs": [
    {
     "data": {
      "text/plain": [
       "0.8875"
      ]
     },
     "execution_count": 7,
     "metadata": {},
     "output_type": "execute_result"
    }
   ],
   "source": [
    "lr = LogisticRegression()\n",
    "lr.fit(X_train, np.ravel(Y_train))\n",
    "y_pred = lr.predict(X_test)\n",
    "\n",
    "accuracy_score(Y_test, y_pred)"
   ]
  },
  {
   "cell_type": "markdown",
   "id": "c83adbda",
   "metadata": {
    "papermill": {
     "duration": 0.006808,
     "end_time": "2024-05-08T11:00:49.295030",
     "exception": false,
     "start_time": "2024-05-08T11:00:49.288222",
     "status": "completed"
    },
    "tags": []
   },
   "source": [
    "## Confusion Matrix"
   ]
  },
  {
   "cell_type": "code",
   "execution_count": 8,
   "id": "b472ca23",
   "metadata": {
    "execution": {
     "iopub.execute_input": "2024-05-08T11:00:49.312071Z",
     "iopub.status.busy": "2024-05-08T11:00:49.310717Z",
     "iopub.status.idle": "2024-05-08T11:00:49.321501Z",
     "shell.execute_reply": "2024-05-08T11:00:49.320143Z"
    },
    "papermill": {
     "duration": 0.023107,
     "end_time": "2024-05-08T11:00:49.325143",
     "exception": false,
     "start_time": "2024-05-08T11:00:49.302036",
     "status": "completed"
    },
    "tags": []
   },
   "outputs": [
    {
     "data": {
      "text/plain": [
       "array([[50,  2],\n",
       "       [ 7, 21]])"
      ]
     },
     "execution_count": 8,
     "metadata": {},
     "output_type": "execute_result"
    }
   ],
   "source": [
    "matrix = confusion_matrix(Y_test, y_pred, labels = lr.classes_)\n",
    "matrix"
   ]
  },
  {
   "cell_type": "code",
   "execution_count": 9,
   "id": "07182607",
   "metadata": {
    "execution": {
     "iopub.execute_input": "2024-05-08T11:00:49.344227Z",
     "iopub.status.busy": "2024-05-08T11:00:49.343090Z",
     "iopub.status.idle": "2024-05-08T11:00:49.350883Z",
     "shell.execute_reply": "2024-05-08T11:00:49.349937Z"
    },
    "papermill": {
     "duration": 0.020629,
     "end_time": "2024-05-08T11:00:49.353415",
     "exception": false,
     "start_time": "2024-05-08T11:00:49.332786",
     "status": "completed"
    },
    "tags": []
   },
   "outputs": [],
   "source": [
    "tp, fn, fp, tn = confusion_matrix(Y_test, y_pred, labels=[1,0]).reshape(-1)\n",
    "# Reshape = from 2-d array to 1-d array\n",
    "#Labels is for order of the terms (1 = positives)"
   ]
  },
  {
   "cell_type": "code",
   "execution_count": 10,
   "id": "f2e6a66d",
   "metadata": {
    "execution": {
     "iopub.execute_input": "2024-05-08T11:00:49.370941Z",
     "iopub.status.busy": "2024-05-08T11:00:49.370438Z",
     "iopub.status.idle": "2024-05-08T11:00:49.840809Z",
     "shell.execute_reply": "2024-05-08T11:00:49.839382Z"
    },
    "papermill": {
     "duration": 0.483134,
     "end_time": "2024-05-08T11:00:49.843654",
     "exception": false,
     "start_time": "2024-05-08T11:00:49.360520",
     "status": "completed"
    },
    "tags": []
   },
   "outputs": [
    {
     "data": {
      "text/plain": [
       "<sklearn.metrics._plot.confusion_matrix.ConfusionMatrixDisplay at 0x7fc0d6f49330>"
      ]
     },
     "execution_count": 10,
     "metadata": {},
     "output_type": "execute_result"
    },
    {
     "data": {
      "image/png": "[encoded data removed]",
      "text/plain": [
       "<Figure size 640x480 with 2 Axes>"
      ]
     },
     "metadata": {},
     "output_type": "display_data"
    }
   ],
   "source": [
    "matrix_display = ConfusionMatrixDisplay(confusion_matrix= matrix, display_labels = lr.classes_)\n",
    "matrix_display.plot(cmap=plt.cm.Blues)"
   ]
  },
  {
   "cell_type": "code",
   "execution_count": 11,
   "id": "2107765c",
   "metadata": {
    "execution": {
     "iopub.execute_input": "2024-05-08T11:00:49.862002Z",
     "iopub.status.busy": "2024-05-08T11:00:49.861509Z",
     "iopub.status.idle": "2024-05-08T11:00:49.878514Z",
     "shell.execute_reply": "2024-05-08T11:00:49.877431Z"
    },
    "papermill": {
     "duration": 0.029291,
     "end_time": "2024-05-08T11:00:49.881326",
     "exception": false,
     "start_time": "2024-05-08T11:00:49.852035",
     "status": "completed"
    },
    "tags": []
   },
   "outputs": [
    {
     "name": "stdout",
     "output_type": "stream",
     "text": [
      "              precision    recall  f1-score   support\n",
      "\n",
      "           0       0.88      0.96      0.92        52\n",
      "           1       0.91      0.75      0.82        28\n",
      "\n",
      "    accuracy                           0.89        80\n",
      "   macro avg       0.90      0.86      0.87        80\n",
      "weighted avg       0.89      0.89      0.88        80\n",
      "\n"
     ]
    }
   ],
   "source": [
    "print(classification_report(Y_test, y_pred))"
   ]
  },
  {
   "cell_type": "code",
   "execution_count": 12,
   "id": "935837d4",
   "metadata": {
    "execution": {
     "iopub.execute_input": "2024-05-08T11:00:49.900168Z",
     "iopub.status.busy": "2024-05-08T11:00:49.898926Z",
     "iopub.status.idle": "2024-05-08T11:00:49.911303Z",
     "shell.execute_reply": "2024-05-08T11:00:49.909317Z"
    },
    "papermill": {
     "duration": 0.024833,
     "end_time": "2024-05-08T11:00:49.914175",
     "exception": false,
     "start_time": "2024-05-08T11:00:49.889342",
     "status": "completed"
    },
    "tags": []
   },
   "outputs": [
    {
     "name": "stdout",
     "output_type": "stream",
     "text": [
      "Accuracy:  0.8875\n",
      "Error Rate:  0.1125\n",
      "Recall or True Positive Rate:  0.75\n",
      "False Positive Rate:  0.038461538461538464\n",
      "Precision Positive Predective Value:  0.9130434782608695\n",
      "True negative Rate:  0.9615384615384616\n"
     ]
    }
   ],
   "source": [
    "print(\"Accuracy: \", accuracy_score(Y_test, y_pred))\n",
    "print(\"Error Rate: \", (fn + fp)/ (tp+tn+fn+fp))\n",
    "print(\"Recall or True Positive Rate: \", tp/(tp+ fn))\n",
    "print(\"False Positive Rate: \", fp/(fp + tn))\n",
    "print(\"Precision Positive Predective Value: \", tp/ (tp+fp))\n",
    "print(\"True negative Rate: \", tn/(fp + tn) )"
   ]
  },
  {
   "cell_type": "code",
   "execution_count": null,
   "id": "1df942bc",
   "metadata": {
    "papermill": {
     "duration": 0.008222,
     "end_time": "2024-05-08T11:00:49.930800",
     "exception": false,
     "start_time": "2024-05-08T11:00:49.922578",
     "status": "completed"
    },
    "tags": []
   },
   "outputs": [],
   "source": []
  }
 ],
 "metadata": {
  "kaggle": {
   "accelerator": "none",
   "dataSources": [
    {
     "datasetId": 1846,
     "sourceId": 3197,
     "sourceType": "datasetVersion"
    }
   ],
   "dockerImageVersionId": 30698,
   "isGpuEnabled": false,
   "isInternetEnabled": true,
   "language": "python",
   "sourceType": "notebook"
  },
  "kernelspec": {
   "display_name": "Python 3",
   "language": "python",
   "name": "python3"
  },
  "language_info": {
   "codemirror_mode": {
    "name": "ipython",
    "version": 3
   },
   "file_extension": ".py",
   "mimetype": "text/x-python",
   "name": "python",
   "nbconvert_exporter": "python",
   "pygments_lexer": "ipython3",
   "version": "3.10.13"
  },
  "papermill": {
   "default_parameters": {},
   "duration": 7.537053,
   "end_time": "2024-05-08T11:00:50.662785",
   "environment_variables": {},
   "exception": null,
   "input_path": "__notebook__.ipynb",
   "output_path": "__notebook__.ipynb",
   "parameters": {},
   "start_time": "2024-05-08T11:00:43.125732",
   "version": "2.5.0"
  }
 },
 "nbformat": 4,
 "nbformat_minor": 5
}
