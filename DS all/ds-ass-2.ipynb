{
 "cells": [
  {
   "cell_type": "code",
   "execution_count": 1,
   "id": "86e38f48",
   "metadata": {
    "_cell_guid": "b1076dfc-b9ad-4769-8c92-a6c4dae69d19",
    "_uuid": "8f2839f25d086af736a60e9eeb907d3b93b6e0e5",
    "execution": {
     "iopub.execute_input": "2024-05-08T15:46:22.493711Z",
     "iopub.status.busy": "2024-05-08T15:46:22.492494Z",
     "iopub.status.idle": "2024-05-08T15:46:24.979125Z",
     "shell.execute_reply": "2024-05-08T15:46:24.977886Z"
    },
    "papermill": {
     "duration": 2.497866,
     "end_time": "2024-05-08T15:46:24.981894",
     "exception": false,
     "start_time": "2024-05-08T15:46:22.484028",
     "status": "completed"
    },
    "tags": []
   },
   "outputs": [],
   "source": [
    "import pandas as pd\n",
    "import numpy as np\n",
    "import seaborn as sns"
   ]
  },
  {
   "cell_type": "code",
   "execution_count": 2,
   "id": "6b8ade13",
   "metadata": {
    "execution": {
     "iopub.execute_input": "2024-05-08T15:46:24.997413Z",
     "iopub.status.busy": "2024-05-08T15:46:24.996457Z",
     "iopub.status.idle": "2024-05-08T15:46:25.036491Z",
     "shell.execute_reply": "2024-05-08T15:46:25.034559Z"
    },
    "papermill": {
     "duration": 0.05164,
     "end_time": "2024-05-08T15:46:25.040241",
     "exception": false,
     "start_time": "2024-05-08T15:46:24.988601",
     "status": "completed"
    },
    "tags": []
   },
   "outputs": [],
   "source": [
    "file = pd.read_csv('/kaggle/input/xAPI-Edu-Data/xAPI-Edu-Data.csv', na_values='?')\n",
    "file\n",
    "df = file"
   ]
  },
  {
   "cell_type": "code",
   "execution_count": 3,
   "id": "8aa42344",
   "metadata": {
    "execution": {
     "iopub.execute_input": "2024-05-08T15:46:25.054970Z",
     "iopub.status.busy": "2024-05-08T15:46:25.054531Z",
     "iopub.status.idle": "2024-05-08T15:46:25.103330Z",
     "shell.execute_reply": "2024-05-08T15:46:25.101670Z"
    },
    "papermill": {
     "duration": 0.05974,
     "end_time": "2024-05-08T15:46:25.106390",
     "exception": false,
     "start_time": "2024-05-08T15:46:25.046650",
     "status": "completed"
    },
    "tags": []
   },
   "outputs": [
    {
     "data": {
      "text/html": [
       "<div>\n",
       "<style scoped>\n",
       "    .dataframe tbody tr th:only-of-type {\n",
       "        vertical-align: middle;\n",
       "    }\n",
       "\n",
       "    .dataframe tbody tr th {\n",
       "        vertical-align: top;\n",
       "    }\n",
       "\n",
       "    .dataframe thead th {\n",
       "        text-align: right;\n",
       "    }\n",
       "</style>\n",
       "<table border=\"1\" class=\"dataframe\">\n",
       "  <thead>\n",
       "    <tr style=\"text-align: right;\">\n",
       "      <th></th>\n",
       "      <th>gender</th>\n",
       "      <th>NationalITy</th>\n",
       "      <th>PlaceofBirth</th>\n",
       "      <th>StageID</th>\n",
       "      <th>GradeID</th>\n",
       "      <th>SectionID</th>\n",
       "      <th>Topic</th>\n",
       "      <th>Semester</th>\n",
       "      <th>Relation</th>\n",
       "      <th>raisedhands</th>\n",
       "      <th>VisITedResources</th>\n",
       "      <th>AnnouncementsView</th>\n",
       "      <th>Discussion</th>\n",
       "      <th>ParentAnsweringSurvey</th>\n",
       "      <th>ParentschoolSatisfaction</th>\n",
       "      <th>StudentAbsenceDays</th>\n",
       "      <th>Class</th>\n",
       "    </tr>\n",
       "  </thead>\n",
       "  <tbody>\n",
       "    <tr>\n",
       "      <th>0</th>\n",
       "      <td>False</td>\n",
       "      <td>False</td>\n",
       "      <td>False</td>\n",
       "      <td>False</td>\n",
       "      <td>False</td>\n",
       "      <td>False</td>\n",
       "      <td>False</td>\n",
       "      <td>False</td>\n",
       "      <td>False</td>\n",
       "      <td>False</td>\n",
       "      <td>False</td>\n",
       "      <td>False</td>\n",
       "      <td>False</td>\n",
       "      <td>False</td>\n",
       "      <td>False</td>\n",
       "      <td>False</td>\n",
       "      <td>False</td>\n",
       "    </tr>\n",
       "    <tr>\n",
       "      <th>1</th>\n",
       "      <td>False</td>\n",
       "      <td>False</td>\n",
       "      <td>False</td>\n",
       "      <td>False</td>\n",
       "      <td>False</td>\n",
       "      <td>False</td>\n",
       "      <td>False</td>\n",
       "      <td>False</td>\n",
       "      <td>False</td>\n",
       "      <td>False</td>\n",
       "      <td>False</td>\n",
       "      <td>False</td>\n",
       "      <td>False</td>\n",
       "      <td>False</td>\n",
       "      <td>False</td>\n",
       "      <td>False</td>\n",
       "      <td>False</td>\n",
       "    </tr>\n",
       "    <tr>\n",
       "      <th>2</th>\n",
       "      <td>False</td>\n",
       "      <td>False</td>\n",
       "      <td>False</td>\n",
       "      <td>False</td>\n",
       "      <td>False</td>\n",
       "      <td>False</td>\n",
       "      <td>False</td>\n",
       "      <td>False</td>\n",
       "      <td>False</td>\n",
       "      <td>False</td>\n",
       "      <td>False</td>\n",
       "      <td>False</td>\n",
       "      <td>False</td>\n",
       "      <td>False</td>\n",
       "      <td>False</td>\n",
       "      <td>False</td>\n",
       "      <td>False</td>\n",
       "    </tr>\n",
       "    <tr>\n",
       "      <th>3</th>\n",
       "      <td>False</td>\n",
       "      <td>False</td>\n",
       "      <td>False</td>\n",
       "      <td>False</td>\n",
       "      <td>False</td>\n",
       "      <td>False</td>\n",
       "      <td>False</td>\n",
       "      <td>False</td>\n",
       "      <td>False</td>\n",
       "      <td>False</td>\n",
       "      <td>False</td>\n",
       "      <td>False</td>\n",
       "      <td>False</td>\n",
       "      <td>False</td>\n",
       "      <td>False</td>\n",
       "      <td>False</td>\n",
       "      <td>False</td>\n",
       "    </tr>\n",
       "    <tr>\n",
       "      <th>4</th>\n",
       "      <td>False</td>\n",
       "      <td>False</td>\n",
       "      <td>False</td>\n",
       "      <td>False</td>\n",
       "      <td>False</td>\n",
       "      <td>False</td>\n",
       "      <td>False</td>\n",
       "      <td>False</td>\n",
       "      <td>False</td>\n",
       "      <td>False</td>\n",
       "      <td>False</td>\n",
       "      <td>False</td>\n",
       "      <td>False</td>\n",
       "      <td>False</td>\n",
       "      <td>False</td>\n",
       "      <td>False</td>\n",
       "      <td>False</td>\n",
       "    </tr>\n",
       "    <tr>\n",
       "      <th>...</th>\n",
       "      <td>...</td>\n",
       "      <td>...</td>\n",
       "      <td>...</td>\n",
       "      <td>...</td>\n",
       "      <td>...</td>\n",
       "      <td>...</td>\n",
       "      <td>...</td>\n",
       "      <td>...</td>\n",
       "      <td>...</td>\n",
       "      <td>...</td>\n",
       "      <td>...</td>\n",
       "      <td>...</td>\n",
       "      <td>...</td>\n",
       "      <td>...</td>\n",
       "      <td>...</td>\n",
       "      <td>...</td>\n",
       "      <td>...</td>\n",
       "    </tr>\n",
       "    <tr>\n",
       "      <th>475</th>\n",
       "      <td>False</td>\n",
       "      <td>False</td>\n",
       "      <td>False</td>\n",
       "      <td>False</td>\n",
       "      <td>False</td>\n",
       "      <td>False</td>\n",
       "      <td>False</td>\n",
       "      <td>False</td>\n",
       "      <td>False</td>\n",
       "      <td>False</td>\n",
       "      <td>False</td>\n",
       "      <td>False</td>\n",
       "      <td>False</td>\n",
       "      <td>False</td>\n",
       "      <td>False</td>\n",
       "      <td>False</td>\n",
       "      <td>False</td>\n",
       "    </tr>\n",
       "    <tr>\n",
       "      <th>476</th>\n",
       "      <td>False</td>\n",
       "      <td>False</td>\n",
       "      <td>False</td>\n",
       "      <td>False</td>\n",
       "      <td>False</td>\n",
       "      <td>False</td>\n",
       "      <td>False</td>\n",
       "      <td>False</td>\n",
       "      <td>False</td>\n",
       "      <td>False</td>\n",
       "      <td>False</td>\n",
       "      <td>False</td>\n",
       "      <td>False</td>\n",
       "      <td>False</td>\n",
       "      <td>False</td>\n",
       "      <td>False</td>\n",
       "      <td>False</td>\n",
       "    </tr>\n",
       "    <tr>\n",
       "      <th>477</th>\n",
       "      <td>False</td>\n",
       "      <td>False</td>\n",
       "      <td>False</td>\n",
       "      <td>False</td>\n",
       "      <td>False</td>\n",
       "      <td>False</td>\n",
       "      <td>False</td>\n",
       "      <td>False</td>\n",
       "      <td>False</td>\n",
       "      <td>False</td>\n",
       "      <td>False</td>\n",
       "      <td>False</td>\n",
       "      <td>False</td>\n",
       "      <td>False</td>\n",
       "      <td>False</td>\n",
       "      <td>False</td>\n",
       "      <td>False</td>\n",
       "    </tr>\n",
       "    <tr>\n",
       "      <th>478</th>\n",
       "      <td>False</td>\n",
       "      <td>False</td>\n",
       "      <td>False</td>\n",
       "      <td>False</td>\n",
       "      <td>False</td>\n",
       "      <td>False</td>\n",
       "      <td>False</td>\n",
       "      <td>False</td>\n",
       "      <td>False</td>\n",
       "      <td>False</td>\n",
       "      <td>False</td>\n",
       "      <td>False</td>\n",
       "      <td>False</td>\n",
       "      <td>False</td>\n",
       "      <td>False</td>\n",
       "      <td>False</td>\n",
       "      <td>False</td>\n",
       "    </tr>\n",
       "    <tr>\n",
       "      <th>479</th>\n",
       "      <td>False</td>\n",
       "      <td>False</td>\n",
       "      <td>False</td>\n",
       "      <td>False</td>\n",
       "      <td>False</td>\n",
       "      <td>False</td>\n",
       "      <td>False</td>\n",
       "      <td>False</td>\n",
       "      <td>False</td>\n",
       "      <td>False</td>\n",
       "      <td>False</td>\n",
       "      <td>False</td>\n",
       "      <td>False</td>\n",
       "      <td>False</td>\n",
       "      <td>False</td>\n",
       "      <td>False</td>\n",
       "      <td>False</td>\n",
       "    </tr>\n",
       "  </tbody>\n",
       "</table>\n",
       "<p>480 rows × 17 columns</p>\n",
       "</div>"
      ],
      "text/plain": [
       "     gender  NationalITy  PlaceofBirth  StageID  GradeID  SectionID  Topic  \\\n",
       "0     False        False         False    False    False      False  False   \n",
       "1     False        False         False    False    False      False  False   \n",
       "2     False        False         False    False    False      False  False   \n",
       "3     False        False         False    False    False      False  False   \n",
       "4     False        False         False    False    False      False  False   \n",
       "..      ...          ...           ...      ...      ...        ...    ...   \n",
       "475   False        False         False    False    False      False  False   \n",
       "476   False        False         False    False    False      False  False   \n",
       "477   False        False         False    False    False      False  False   \n",
       "478   False        False         False    False    False      False  False   \n",
       "479   False        False         False    False    False      False  False   \n",
       "\n",
       "     Semester  Relation  raisedhands  VisITedResources  AnnouncementsView  \\\n",
       "0       False     False        False             False              False   \n",
       "1       False     False        False             False              False   \n",
       "2       False     False        False             False              False   \n",
       "3       False     False        False             False              False   \n",
       "4       False     False        False             False              False   \n",
       "..        ...       ...          ...               ...                ...   \n",
       "475     False     False        False             False              False   \n",
       "476     False     False        False             False              False   \n",
       "477     False     False        False             False              False   \n",
       "478     False     False        False             False              False   \n",
       "479     False     False        False             False              False   \n",
       "\n",
       "     Discussion  ParentAnsweringSurvey  ParentschoolSatisfaction  \\\n",
       "0         False                  False                     False   \n",
       "1         False                  False                     False   \n",
       "2         False                  False                     False   \n",
       "3         False                  False                     False   \n",
       "4         False                  False                     False   \n",
       "..          ...                    ...                       ...   \n",
       "475       False                  False                     False   \n",
       "476       False                  False                     False   \n",
       "477       False                  False                     False   \n",
       "478       False                  False                     False   \n",
       "479       False                  False                     False   \n",
       "\n",
       "     StudentAbsenceDays  Class  \n",
       "0                 False  False  \n",
       "1                 False  False  \n",
       "2                 False  False  \n",
       "3                 False  False  \n",
       "4                 False  False  \n",
       "..                  ...    ...  \n",
       "475               False  False  \n",
       "476               False  False  \n",
       "477               False  False  \n",
       "478               False  False  \n",
       "479               False  False  \n",
       "\n",
       "[480 rows x 17 columns]"
      ]
     },
     "execution_count": 3,
     "metadata": {},
     "output_type": "execute_result"
    }
   ],
   "source": [
    "file.isnull()"
   ]
  },
  {
   "cell_type": "code",
   "execution_count": 4,
   "id": "72df278c",
   "metadata": {
    "execution": {
     "iopub.execute_input": "2024-05-08T15:46:25.123330Z",
     "iopub.status.busy": "2024-05-08T15:46:25.122906Z",
     "iopub.status.idle": "2024-05-08T15:46:25.134271Z",
     "shell.execute_reply": "2024-05-08T15:46:25.132979Z"
    },
    "papermill": {
     "duration": 0.022964,
     "end_time": "2024-05-08T15:46:25.137011",
     "exception": false,
     "start_time": "2024-05-08T15:46:25.114047",
     "status": "completed"
    },
    "tags": []
   },
   "outputs": [
    {
     "data": {
      "text/plain": [
       "gender                      0\n",
       "NationalITy                 0\n",
       "PlaceofBirth                0\n",
       "StageID                     0\n",
       "GradeID                     0\n",
       "SectionID                   0\n",
       "Topic                       0\n",
       "Semester                    0\n",
       "Relation                    0\n",
       "raisedhands                 0\n",
       "VisITedResources            0\n",
       "AnnouncementsView           0\n",
       "Discussion                  0\n",
       "ParentAnsweringSurvey       0\n",
       "ParentschoolSatisfaction    0\n",
       "StudentAbsenceDays          0\n",
       "Class                       0\n",
       "dtype: int64"
      ]
     },
     "execution_count": 4,
     "metadata": {},
     "output_type": "execute_result"
    }
   ],
   "source": [
    "file.isnull().sum()"
   ]
  },
  {
   "cell_type": "code",
   "execution_count": 5,
   "id": "925440b5",
   "metadata": {
    "execution": {
     "iopub.execute_input": "2024-05-08T15:46:25.152956Z",
     "iopub.status.busy": "2024-05-08T15:46:25.152508Z",
     "iopub.status.idle": "2024-05-08T15:46:25.179608Z",
     "shell.execute_reply": "2024-05-08T15:46:25.178489Z"
    },
    "papermill": {
     "duration": 0.038138,
     "end_time": "2024-05-08T15:46:25.182226",
     "exception": false,
     "start_time": "2024-05-08T15:46:25.144088",
     "status": "completed"
    },
    "tags": []
   },
   "outputs": [
    {
     "data": {
      "text/html": [
       "<div>\n",
       "<style scoped>\n",
       "    .dataframe tbody tr th:only-of-type {\n",
       "        vertical-align: middle;\n",
       "    }\n",
       "\n",
       "    .dataframe tbody tr th {\n",
       "        vertical-align: top;\n",
       "    }\n",
       "\n",
       "    .dataframe thead th {\n",
       "        text-align: right;\n",
       "    }\n",
       "</style>\n",
       "<table border=\"1\" class=\"dataframe\">\n",
       "  <thead>\n",
       "    <tr style=\"text-align: right;\">\n",
       "      <th></th>\n",
       "      <th>raisedhands</th>\n",
       "      <th>VisITedResources</th>\n",
       "      <th>AnnouncementsView</th>\n",
       "      <th>Discussion</th>\n",
       "    </tr>\n",
       "  </thead>\n",
       "  <tbody>\n",
       "    <tr>\n",
       "      <th>count</th>\n",
       "      <td>480.000000</td>\n",
       "      <td>480.000000</td>\n",
       "      <td>480.000000</td>\n",
       "      <td>480.000000</td>\n",
       "    </tr>\n",
       "    <tr>\n",
       "      <th>mean</th>\n",
       "      <td>46.775000</td>\n",
       "      <td>54.797917</td>\n",
       "      <td>37.918750</td>\n",
       "      <td>43.283333</td>\n",
       "    </tr>\n",
       "    <tr>\n",
       "      <th>std</th>\n",
       "      <td>30.779223</td>\n",
       "      <td>33.080007</td>\n",
       "      <td>26.611244</td>\n",
       "      <td>27.637735</td>\n",
       "    </tr>\n",
       "    <tr>\n",
       "      <th>min</th>\n",
       "      <td>0.000000</td>\n",
       "      <td>0.000000</td>\n",
       "      <td>0.000000</td>\n",
       "      <td>1.000000</td>\n",
       "    </tr>\n",
       "    <tr>\n",
       "      <th>25%</th>\n",
       "      <td>15.750000</td>\n",
       "      <td>20.000000</td>\n",
       "      <td>14.000000</td>\n",
       "      <td>20.000000</td>\n",
       "    </tr>\n",
       "    <tr>\n",
       "      <th>50%</th>\n",
       "      <td>50.000000</td>\n",
       "      <td>65.000000</td>\n",
       "      <td>33.000000</td>\n",
       "      <td>39.000000</td>\n",
       "    </tr>\n",
       "    <tr>\n",
       "      <th>75%</th>\n",
       "      <td>75.000000</td>\n",
       "      <td>84.000000</td>\n",
       "      <td>58.000000</td>\n",
       "      <td>70.000000</td>\n",
       "    </tr>\n",
       "    <tr>\n",
       "      <th>max</th>\n",
       "      <td>100.000000</td>\n",
       "      <td>99.000000</td>\n",
       "      <td>98.000000</td>\n",
       "      <td>99.000000</td>\n",
       "    </tr>\n",
       "  </tbody>\n",
       "</table>\n",
       "</div>"
      ],
      "text/plain": [
       "       raisedhands  VisITedResources  AnnouncementsView  Discussion\n",
       "count   480.000000        480.000000         480.000000  480.000000\n",
       "mean     46.775000         54.797917          37.918750   43.283333\n",
       "std      30.779223         33.080007          26.611244   27.637735\n",
       "min       0.000000          0.000000           0.000000    1.000000\n",
       "25%      15.750000         20.000000          14.000000   20.000000\n",
       "50%      50.000000         65.000000          33.000000   39.000000\n",
       "75%      75.000000         84.000000          58.000000   70.000000\n",
       "max     100.000000         99.000000          98.000000   99.000000"
      ]
     },
     "execution_count": 5,
     "metadata": {},
     "output_type": "execute_result"
    }
   ],
   "source": [
    "file.describe()"
   ]
  },
  {
   "cell_type": "code",
   "execution_count": 6,
   "id": "17599f57",
   "metadata": {
    "execution": {
     "iopub.execute_input": "2024-05-08T15:46:25.199450Z",
     "iopub.status.busy": "2024-05-08T15:46:25.199024Z",
     "iopub.status.idle": "2024-05-08T15:46:25.204747Z",
     "shell.execute_reply": "2024-05-08T15:46:25.203400Z"
    },
    "papermill": {
     "duration": 0.017357,
     "end_time": "2024-05-08T15:46:25.207354",
     "exception": false,
     "start_time": "2024-05-08T15:46:25.189997",
     "status": "completed"
    },
    "tags": []
   },
   "outputs": [],
   "source": [
    "import matplotlib.pyplot as plt"
   ]
  },
  {
   "cell_type": "code",
   "execution_count": 7,
   "id": "61508cba",
   "metadata": {
    "execution": {
     "iopub.execute_input": "2024-05-08T15:46:25.224440Z",
     "iopub.status.busy": "2024-05-08T15:46:25.224002Z",
     "iopub.status.idle": "2024-05-08T15:46:25.236189Z",
     "shell.execute_reply": "2024-05-08T15:46:25.235269Z"
    },
    "papermill": {
     "duration": 0.023468,
     "end_time": "2024-05-08T15:46:25.238612",
     "exception": false,
     "start_time": "2024-05-08T15:46:25.215144",
     "status": "completed"
    },
    "tags": []
   },
   "outputs": [
    {
     "data": {
      "text/plain": [
       "Semester\n",
       "F    245\n",
       "S    235\n",
       "Name: count, dtype: int64"
      ]
     },
     "execution_count": 7,
     "metadata": {},
     "output_type": "execute_result"
    }
   ],
   "source": [
    "file['Semester'].value_counts()"
   ]
  },
  {
   "cell_type": "code",
   "execution_count": 8,
   "id": "28b802c8",
   "metadata": {
    "execution": {
     "iopub.execute_input": "2024-05-08T15:46:25.256488Z",
     "iopub.status.busy": "2024-05-08T15:46:25.255478Z",
     "iopub.status.idle": "2024-05-08T15:46:26.152690Z",
     "shell.execute_reply": "2024-05-08T15:46:26.151111Z"
    },
    "papermill": {
     "duration": 0.911121,
     "end_time": "2024-05-08T15:46:26.157400",
     "exception": false,
     "start_time": "2024-05-08T15:46:25.246279",
     "status": "completed"
    },
    "tags": []
   },
   "outputs": [
    {
     "data": {
      "image/png": "[encoded data removed]",
      "text/plain": [
       "<Figure size 640x480 with 1 Axes>"
      ]
     },
     "metadata": {},
     "output_type": "display_data"
    },
    {
     "data": {
      "image/png": "[encoded data removed]",
      "text/plain": [
       "<Figure size 640x480 with 1 Axes>"
      ]
     },
     "metadata": {},
     "output_type": "display_data"
    },
    {
     "data": {
      "image/png": "[encoded data removed]",
      "text/plain": [
       "<Figure size 640x480 with 1 Axes>"
      ]
     },
     "metadata": {},
     "output_type": "display_data"
    },
    {
     "data": {
      "image/png": "[encoded data removed]",
      "text/plain": [
       "<Figure size 640x480 with 1 Axes>"
      ]
     },
     "metadata": {},
     "output_type": "display_data"
    }
   ],
   "source": [
    "numeric_vars = file.select_dtypes(include='number').columns.tolist()\n",
    "for col in numeric_vars:\n",
    "    sns.boxplot(x=file[col])\n",
    "    plt.title(f\"Boxplot of {col}\")\n",
    "    plt.show()"
   ]
  },
  {
   "cell_type": "code",
   "execution_count": 9,
   "id": "552aaefc",
   "metadata": {
    "execution": {
     "iopub.execute_input": "2024-05-08T15:46:26.180730Z",
     "iopub.status.busy": "2024-05-08T15:46:26.180260Z",
     "iopub.status.idle": "2024-05-08T15:46:26.195147Z",
     "shell.execute_reply": "2024-05-08T15:46:26.193728Z"
    },
    "papermill": {
     "duration": 0.028692,
     "end_time": "2024-05-08T15:46:26.198205",
     "exception": false,
     "start_time": "2024-05-08T15:46:26.169513",
     "status": "completed"
    },
    "tags": []
   },
   "outputs": [],
   "source": [
    "file['VisITedResources_log'] = np.log(file['VisITedResources'] + 1)\n",
    "df['raisedhands_sqrt'] = np.sqrt(df['raisedhands'])\n",
    "from scipy.stats import boxcox\n",
    "df['AnnouncementsView_boxcox'], _ = boxcox(df['AnnouncementsView'] + 1)\n",
    "df['Discussion_exp'] = np.exp(df['Discussion'])"
   ]
  },
  {
   "cell_type": "code",
   "execution_count": 10,
   "id": "8c96b750",
   "metadata": {
    "execution": {
     "iopub.execute_input": "2024-05-08T15:46:26.219403Z",
     "iopub.status.busy": "2024-05-08T15:46:26.218697Z",
     "iopub.status.idle": "2024-05-08T15:46:27.986544Z",
     "shell.execute_reply": "2024-05-08T15:46:27.985053Z"
    },
    "papermill": {
     "duration": 1.78113,
     "end_time": "2024-05-08T15:46:27.989084",
     "exception": false,
     "start_time": "2024-05-08T15:46:26.207954",
     "status": "completed"
    },
    "tags": []
   },
   "outputs": [
    {
     "data": {
      "image/png": "[encoded data removed]",
      "text/plain": [
       "<Figure size 640x480 with 1 Axes>"
      ]
     },
     "metadata": {},
     "output_type": "display_data"
    },
    {
     "data": {
      "image/png": "[encoded data removed]",
      "text/plain": [
       "<Figure size 640x480 with 1 Axes>"
      ]
     },
     "metadata": {},
     "output_type": "display_data"
    },
    {
     "data": {
      "image/png": "[encoded data removed]",
      "text/plain": [
       "<Figure size 640x480 with 1 Axes>"
      ]
     },
     "metadata": {},
     "output_type": "display_data"
    },
    {
     "data": {
      "image/png": "[encoded data removed]",
      "text/plain": [
       "<Figure size 640x480 with 1 Axes>"
      ]
     },
     "metadata": {},
     "output_type": "display_data"
    },
    {
     "data": {
      "image/png": "[encoded data removed]",
      "text/plain": [
       "<Figure size 640x480 with 1 Axes>"
      ]
     },
     "metadata": {},
     "output_type": "display_data"
    },
    {
     "data": {
      "image/png": "[encoded data removed]",
      "text/plain": [
       "<Figure size 640x480 with 1 Axes>"
      ]
     },
     "metadata": {},
     "output_type": "display_data"
    },
    {
     "data": {
      "image/png": "[encoded data removed]",
      "text/plain": [
       "<Figure size 640x480 with 1 Axes>"
      ]
     },
     "metadata": {},
     "output_type": "display_data"
    },
    {
     "data": {
      "image/png": "[encoded data removed]",
      "text/plain": [
       "<Figure size 640x480 with 1 Axes>"
      ]
     },
     "metadata": {},
     "output_type": "display_data"
    }
   ],
   "source": [
    "numeric_vars = file.select_dtypes(include='number').columns.tolist()\n",
    "for col in numeric_vars:\n",
    "    sns.boxplot(x=file[col])\n",
    "    plt.title(f\"Boxplot of {col}\")\n",
    "    plt.show()"
   ]
  },
  {
   "cell_type": "code",
   "execution_count": 11,
   "id": "68621695",
   "metadata": {
    "execution": {
     "iopub.execute_input": "2024-05-08T15:46:28.017722Z",
     "iopub.status.busy": "2024-05-08T15:46:28.017149Z",
     "iopub.status.idle": "2024-05-08T15:46:28.034274Z",
     "shell.execute_reply": "2024-05-08T15:46:28.033118Z"
    },
    "papermill": {
     "duration": 0.036121,
     "end_time": "2024-05-08T15:46:28.037708",
     "exception": false,
     "start_time": "2024-05-08T15:46:28.001587",
     "status": "completed"
    },
    "tags": []
   },
   "outputs": [
    {
     "name": "stderr",
     "output_type": "stream",
     "text": [
      "/tmp/ipykernel_18/2568870357.py:3: FutureWarning: Downcasting behavior in `replace` is deprecated and will be removed in a future version. To retain the old behavior, explicitly call `result.infer_objects(copy=False)`. To opt-in to the future behavior, set `pd.set_option('future.no_silent_downcasting', True)`\n",
      "  file.StudentAbsenceDays.replace({\"Under-7\":0,\"Above-7\":1})\n"
     ]
    },
    {
     "data": {
      "text/plain": [
       "0      0\n",
       "1      0\n",
       "2      1\n",
       "3      1\n",
       "4      1\n",
       "      ..\n",
       "475    1\n",
       "476    0\n",
       "477    0\n",
       "478    1\n",
       "479    1\n",
       "Name: StudentAbsenceDays, Length: 480, dtype: int64"
      ]
     },
     "execution_count": 11,
     "metadata": {},
     "output_type": "execute_result"
    }
   ],
   "source": [
    "file['raisedhands'] = file['raisedhands'] / file['raisedhands'].max()\n",
    "file['VisITedResources']= file['VisITedResources'] / file['VisITedResources'].max()\n",
    "file.StudentAbsenceDays.replace({\"Under-7\":0,\"Above-7\":1})"
   ]
  },
  {
   "cell_type": "markdown",
   "id": "412e9ee1",
   "metadata": {
    "papermill": {
     "duration": 0.014805,
     "end_time": "2024-05-08T15:46:28.068679",
     "exception": false,
     "start_time": "2024-05-08T15:46:28.053874",
     "status": "completed"
    },
    "tags": []
   },
   "source": [
    "# Binning"
   ]
  },
  {
   "cell_type": "code",
   "execution_count": 12,
   "id": "64ef802c",
   "metadata": {
    "execution": {
     "iopub.execute_input": "2024-05-08T15:46:28.101399Z",
     "iopub.status.busy": "2024-05-08T15:46:28.100666Z",
     "iopub.status.idle": "2024-05-08T15:46:28.107706Z",
     "shell.execute_reply": "2024-05-08T15:46:28.105959Z"
    },
    "papermill": {
     "duration": 0.028456,
     "end_time": "2024-05-08T15:46:28.110282",
     "exception": false,
     "start_time": "2024-05-08T15:46:28.081826",
     "status": "completed"
    },
    "tags": []
   },
   "outputs": [
    {
     "name": "stdout",
     "output_type": "stream",
     "text": [
      "1\n",
      "99\n"
     ]
    }
   ],
   "source": [
    "min_val = file['Discussion'].min()\n",
    "max_val = file['Discussion'].max()\n",
    "print(min_val)\n",
    "print(max_val)"
   ]
  },
  {
   "cell_type": "code",
   "execution_count": 13,
   "id": "472fca77",
   "metadata": {
    "execution": {
     "iopub.execute_input": "2024-05-08T15:46:28.135922Z",
     "iopub.status.busy": "2024-05-08T15:46:28.135483Z",
     "iopub.status.idle": "2024-05-08T15:46:28.143815Z",
     "shell.execute_reply": "2024-05-08T15:46:28.142548Z"
    },
    "papermill": {
     "duration": 0.024443,
     "end_time": "2024-05-08T15:46:28.146539",
     "exception": false,
     "start_time": "2024-05-08T15:46:28.122096",
     "status": "completed"
    },
    "tags": []
   },
   "outputs": [
    {
     "data": {
      "text/plain": [
       "array([ 1.        , 33.66666667, 66.33333333, 99.        ])"
      ]
     },
     "execution_count": 13,
     "metadata": {},
     "output_type": "execute_result"
    }
   ],
   "source": [
    "bins = np.linspace(min_val,max_val,4)\n",
    "bins"
   ]
  },
  {
   "cell_type": "code",
   "execution_count": 14,
   "id": "bc24a9ac",
   "metadata": {
    "execution": {
     "iopub.execute_input": "2024-05-08T15:46:28.174188Z",
     "iopub.status.busy": "2024-05-08T15:46:28.173214Z",
     "iopub.status.idle": "2024-05-08T15:46:28.184885Z",
     "shell.execute_reply": "2024-05-08T15:46:28.183586Z"
    },
    "papermill": {
     "duration": 0.029308,
     "end_time": "2024-05-08T15:46:28.188827",
     "exception": false,
     "start_time": "2024-05-08T15:46:28.159519",
     "status": "completed"
    },
    "tags": []
   },
   "outputs": [],
   "source": [
    "labels=['small','medium','big']\n",
    "file['bins']=pd.cut(file['Discussion'],bins=bins,labels=labels,include_lowest=True)"
   ]
  },
  {
   "cell_type": "code",
   "execution_count": 15,
   "id": "90210aea",
   "metadata": {
    "execution": {
     "iopub.execute_input": "2024-05-08T15:46:28.215866Z",
     "iopub.status.busy": "2024-05-08T15:46:28.215270Z",
     "iopub.status.idle": "2024-05-08T15:46:28.227088Z",
     "shell.execute_reply": "2024-05-08T15:46:28.225882Z"
    },
    "papermill": {
     "duration": 0.028927,
     "end_time": "2024-05-08T15:46:28.230390",
     "exception": false,
     "start_time": "2024-05-08T15:46:28.201463",
     "status": "completed"
    },
    "tags": []
   },
   "outputs": [
    {
     "data": {
      "text/plain": [
       "bins\n",
       "small     221\n",
       "medium    130\n",
       "big       129\n",
       "Name: count, dtype: int64"
      ]
     },
     "execution_count": 15,
     "metadata": {},
     "output_type": "execute_result"
    }
   ],
   "source": [
    "file['bins'].value_counts()"
   ]
  },
  {
   "cell_type": "markdown",
   "id": "7930b389",
   "metadata": {
    "papermill": {
     "duration": 0.016671,
     "end_time": "2024-05-08T15:46:28.262232",
     "exception": false,
     "start_time": "2024-05-08T15:46:28.245561",
     "status": "completed"
    },
    "tags": []
   },
   "source": []
  }
 ],
 "metadata": {
  "kaggle": {
   "accelerator": "none",
   "dataSources": [
    {
     "datasetId": 436,
     "sourceId": 920,
     "sourceType": "datasetVersion"
    }
   ],
   "dockerImageVersionId": 30698,
   "isGpuEnabled": false,
   "isInternetEnabled": true,
   "language": "python",
   "sourceType": "notebook"
  },
  "kernelspec": {
   "display_name": "Python 3",
   "language": "python",
   "name": "python3"
  },
  "language_info": {
   "codemirror_mode": {
    "name": "ipython",
    "version": 3
   },
   "file_extension": ".py",
   "mimetype": "text/x-python",
   "name": "python",
   "nbconvert_exporter": "python",
   "pygments_lexer": "ipython3",
   "version": "3.10.13"
  },
  "papermill": {
   "default_parameters": {},
   "duration": 9.773909,
   "end_time": "2024-05-08T15:46:28.898288",
   "environment_variables": {},
   "exception": null,
   "input_path": "__notebook__.ipynb",
   "output_path": "__notebook__.ipynb",
   "parameters": {},
   "start_time": "2024-05-08T15:46:19.124379",
   "version": "2.5.0"
  }
 },
 "nbformat": 4,
 "nbformat_minor": 5
}
