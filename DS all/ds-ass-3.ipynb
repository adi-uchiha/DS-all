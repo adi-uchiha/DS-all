{
 "cells": [
  {
   "cell_type": "code",
   "execution_count": 1,
   "id": "2a25489e",
   "metadata": {
    "_cell_guid": "b1076dfc-b9ad-4769-8c92-a6c4dae69d19",
    "_uuid": "8f2839f25d086af736a60e9eeb907d3b93b6e0e5",
    "execution": {
     "iopub.execute_input": "2024-05-08T21:45:09.754462Z",
     "iopub.status.busy": "2024-05-08T21:45:09.754022Z",
     "iopub.status.idle": "2024-05-08T21:45:11.932373Z",
     "shell.execute_reply": "2024-05-08T21:45:11.931322Z"
    },
    "papermill": {
     "duration": 2.190439,
     "end_time": "2024-05-08T21:45:11.935102",
     "exception": false,
     "start_time": "2024-05-08T21:45:09.744663",
     "status": "completed"
    },
    "tags": []
   },
   "outputs": [],
   "source": [
    "import pandas as pd\n",
    "import numpy as np\n",
    "import matplotlib.pyplot as plt\n",
    "import seaborn as sns\n",
    "from scipy.stats import skew, kurtosis\n",
    "     "
   ]
  },
  {
   "cell_type": "code",
   "execution_count": 2,
   "id": "b2839306",
   "metadata": {
    "execution": {
     "iopub.execute_input": "2024-05-08T21:45:11.950771Z",
     "iopub.status.busy": "2024-05-08T21:45:11.950261Z",
     "iopub.status.idle": "2024-05-08T21:45:11.955536Z",
     "shell.execute_reply": "2024-05-08T21:45:11.954256Z"
    },
    "papermill": {
     "duration": 0.015767,
     "end_time": "2024-05-08T21:45:11.958021",
     "exception": false,
     "start_time": "2024-05-08T21:45:11.942254",
     "status": "completed"
    },
    "tags": []
   },
   "outputs": [],
   "source": [
    "import warnings\n",
    "warnings.filterwarnings('ignore')"
   ]
  },
  {
   "cell_type": "code",
   "execution_count": 3,
   "id": "0e3cb024",
   "metadata": {
    "execution": {
     "iopub.execute_input": "2024-05-08T21:45:11.973278Z",
     "iopub.status.busy": "2024-05-08T21:45:11.972871Z",
     "iopub.status.idle": "2024-05-08T21:45:12.021484Z",
     "shell.execute_reply": "2024-05-08T21:45:12.020333Z"
    },
    "papermill": {
     "duration": 0.05983,
     "end_time": "2024-05-08T21:45:12.024583",
     "exception": false,
     "start_time": "2024-05-08T21:45:11.964753",
     "status": "completed"
    },
    "scrolled": true,
    "tags": []
   },
   "outputs": [
    {
     "data": {
      "text/html": [
       "<div>\n",
       "<style scoped>\n",
       "    .dataframe tbody tr th:only-of-type {\n",
       "        vertical-align: middle;\n",
       "    }\n",
       "\n",
       "    .dataframe tbody tr th {\n",
       "        vertical-align: top;\n",
       "    }\n",
       "\n",
       "    .dataframe thead th {\n",
       "        text-align: right;\n",
       "    }\n",
       "</style>\n",
       "<table border=\"1\" class=\"dataframe\">\n",
       "  <thead>\n",
       "    <tr style=\"text-align: right;\">\n",
       "      <th></th>\n",
       "      <th>Mthly_HH_Income</th>\n",
       "      <th>Mthly_HH_Expense</th>\n",
       "      <th>No_of_Fly_Members</th>\n",
       "      <th>Emi_or_Rent_Amt</th>\n",
       "      <th>Annual_HH_Income</th>\n",
       "      <th>Highest_Qualified_Member</th>\n",
       "      <th>No_of_Earning_Members</th>\n",
       "    </tr>\n",
       "  </thead>\n",
       "  <tbody>\n",
       "    <tr>\n",
       "      <th>0</th>\n",
       "      <td>5000</td>\n",
       "      <td>8000</td>\n",
       "      <td>3</td>\n",
       "      <td>2000</td>\n",
       "      <td>64200</td>\n",
       "      <td>Under-Graduate</td>\n",
       "      <td>1</td>\n",
       "    </tr>\n",
       "    <tr>\n",
       "      <th>1</th>\n",
       "      <td>6000</td>\n",
       "      <td>7000</td>\n",
       "      <td>2</td>\n",
       "      <td>3000</td>\n",
       "      <td>79920</td>\n",
       "      <td>Illiterate</td>\n",
       "      <td>1</td>\n",
       "    </tr>\n",
       "    <tr>\n",
       "      <th>2</th>\n",
       "      <td>10000</td>\n",
       "      <td>4500</td>\n",
       "      <td>2</td>\n",
       "      <td>0</td>\n",
       "      <td>112800</td>\n",
       "      <td>Under-Graduate</td>\n",
       "      <td>1</td>\n",
       "    </tr>\n",
       "    <tr>\n",
       "      <th>3</th>\n",
       "      <td>10000</td>\n",
       "      <td>2000</td>\n",
       "      <td>1</td>\n",
       "      <td>0</td>\n",
       "      <td>97200</td>\n",
       "      <td>Illiterate</td>\n",
       "      <td>1</td>\n",
       "    </tr>\n",
       "    <tr>\n",
       "      <th>4</th>\n",
       "      <td>12500</td>\n",
       "      <td>12000</td>\n",
       "      <td>2</td>\n",
       "      <td>3000</td>\n",
       "      <td>147000</td>\n",
       "      <td>Graduate</td>\n",
       "      <td>1</td>\n",
       "    </tr>\n",
       "    <tr>\n",
       "      <th>5</th>\n",
       "      <td>14000</td>\n",
       "      <td>8000</td>\n",
       "      <td>2</td>\n",
       "      <td>0</td>\n",
       "      <td>196560</td>\n",
       "      <td>Graduate</td>\n",
       "      <td>1</td>\n",
       "    </tr>\n",
       "    <tr>\n",
       "      <th>6</th>\n",
       "      <td>15000</td>\n",
       "      <td>16000</td>\n",
       "      <td>3</td>\n",
       "      <td>35000</td>\n",
       "      <td>167400</td>\n",
       "      <td>Post-Graduate</td>\n",
       "      <td>1</td>\n",
       "    </tr>\n",
       "    <tr>\n",
       "      <th>7</th>\n",
       "      <td>18000</td>\n",
       "      <td>20000</td>\n",
       "      <td>5</td>\n",
       "      <td>8000</td>\n",
       "      <td>216000</td>\n",
       "      <td>Graduate</td>\n",
       "      <td>1</td>\n",
       "    </tr>\n",
       "    <tr>\n",
       "      <th>8</th>\n",
       "      <td>19000</td>\n",
       "      <td>9000</td>\n",
       "      <td>2</td>\n",
       "      <td>0</td>\n",
       "      <td>218880</td>\n",
       "      <td>Under-Graduate</td>\n",
       "      <td>1</td>\n",
       "    </tr>\n",
       "    <tr>\n",
       "      <th>9</th>\n",
       "      <td>20000</td>\n",
       "      <td>9000</td>\n",
       "      <td>4</td>\n",
       "      <td>0</td>\n",
       "      <td>220800</td>\n",
       "      <td>Under-Graduate</td>\n",
       "      <td>2</td>\n",
       "    </tr>\n",
       "    <tr>\n",
       "      <th>10</th>\n",
       "      <td>20000</td>\n",
       "      <td>18000</td>\n",
       "      <td>4</td>\n",
       "      <td>8000</td>\n",
       "      <td>278400</td>\n",
       "      <td>Under-Graduate</td>\n",
       "      <td>2</td>\n",
       "    </tr>\n",
       "    <tr>\n",
       "      <th>11</th>\n",
       "      <td>22000</td>\n",
       "      <td>25000</td>\n",
       "      <td>6</td>\n",
       "      <td>12000</td>\n",
       "      <td>279840</td>\n",
       "      <td>Illiterate</td>\n",
       "      <td>1</td>\n",
       "    </tr>\n",
       "    <tr>\n",
       "      <th>12</th>\n",
       "      <td>23400</td>\n",
       "      <td>5000</td>\n",
       "      <td>3</td>\n",
       "      <td>0</td>\n",
       "      <td>292032</td>\n",
       "      <td>Illiterate</td>\n",
       "      <td>1</td>\n",
       "    </tr>\n",
       "    <tr>\n",
       "      <th>13</th>\n",
       "      <td>24000</td>\n",
       "      <td>10500</td>\n",
       "      <td>6</td>\n",
       "      <td>0</td>\n",
       "      <td>316800</td>\n",
       "      <td>Graduate</td>\n",
       "      <td>2</td>\n",
       "    </tr>\n",
       "    <tr>\n",
       "      <th>14</th>\n",
       "      <td>24000</td>\n",
       "      <td>10000</td>\n",
       "      <td>4</td>\n",
       "      <td>0</td>\n",
       "      <td>244800</td>\n",
       "      <td>Graduate</td>\n",
       "      <td>2</td>\n",
       "    </tr>\n",
       "    <tr>\n",
       "      <th>15</th>\n",
       "      <td>25000</td>\n",
       "      <td>12300</td>\n",
       "      <td>3</td>\n",
       "      <td>0</td>\n",
       "      <td>246000</td>\n",
       "      <td>Graduate</td>\n",
       "      <td>1</td>\n",
       "    </tr>\n",
       "    <tr>\n",
       "      <th>16</th>\n",
       "      <td>25000</td>\n",
       "      <td>20000</td>\n",
       "      <td>3</td>\n",
       "      <td>3500</td>\n",
       "      <td>261000</td>\n",
       "      <td>Graduate</td>\n",
       "      <td>1</td>\n",
       "    </tr>\n",
       "    <tr>\n",
       "      <th>17</th>\n",
       "      <td>25000</td>\n",
       "      <td>10000</td>\n",
       "      <td>6</td>\n",
       "      <td>0</td>\n",
       "      <td>258000</td>\n",
       "      <td>Under-Graduate</td>\n",
       "      <td>3</td>\n",
       "    </tr>\n",
       "    <tr>\n",
       "      <th>18</th>\n",
       "      <td>29000</td>\n",
       "      <td>6600</td>\n",
       "      <td>2</td>\n",
       "      <td>2000</td>\n",
       "      <td>348000</td>\n",
       "      <td>Graduate</td>\n",
       "      <td>1</td>\n",
       "    </tr>\n",
       "    <tr>\n",
       "      <th>19</th>\n",
       "      <td>30000</td>\n",
       "      <td>13000</td>\n",
       "      <td>4</td>\n",
       "      <td>0</td>\n",
       "      <td>385200</td>\n",
       "      <td>Graduate</td>\n",
       "      <td>1</td>\n",
       "    </tr>\n",
       "    <tr>\n",
       "      <th>20</th>\n",
       "      <td>30500</td>\n",
       "      <td>25000</td>\n",
       "      <td>5</td>\n",
       "      <td>5000</td>\n",
       "      <td>351360</td>\n",
       "      <td>Under-Graduate</td>\n",
       "      <td>1</td>\n",
       "    </tr>\n",
       "    <tr>\n",
       "      <th>21</th>\n",
       "      <td>32000</td>\n",
       "      <td>15000</td>\n",
       "      <td>4</td>\n",
       "      <td>0</td>\n",
       "      <td>445440</td>\n",
       "      <td>Professional</td>\n",
       "      <td>1</td>\n",
       "    </tr>\n",
       "    <tr>\n",
       "      <th>22</th>\n",
       "      <td>34000</td>\n",
       "      <td>19000</td>\n",
       "      <td>6</td>\n",
       "      <td>0</td>\n",
       "      <td>330480</td>\n",
       "      <td>Professional</td>\n",
       "      <td>1</td>\n",
       "    </tr>\n",
       "    <tr>\n",
       "      <th>23</th>\n",
       "      <td>34000</td>\n",
       "      <td>25000</td>\n",
       "      <td>3</td>\n",
       "      <td>4000</td>\n",
       "      <td>469200</td>\n",
       "      <td>Professional</td>\n",
       "      <td>1</td>\n",
       "    </tr>\n",
       "    <tr>\n",
       "      <th>24</th>\n",
       "      <td>35000</td>\n",
       "      <td>12000</td>\n",
       "      <td>3</td>\n",
       "      <td>0</td>\n",
       "      <td>466200</td>\n",
       "      <td>Graduate</td>\n",
       "      <td>1</td>\n",
       "    </tr>\n",
       "    <tr>\n",
       "      <th>25</th>\n",
       "      <td>35000</td>\n",
       "      <td>25000</td>\n",
       "      <td>4</td>\n",
       "      <td>0</td>\n",
       "      <td>449400</td>\n",
       "      <td>Professional</td>\n",
       "      <td>2</td>\n",
       "    </tr>\n",
       "    <tr>\n",
       "      <th>26</th>\n",
       "      <td>39000</td>\n",
       "      <td>8000</td>\n",
       "      <td>4</td>\n",
       "      <td>0</td>\n",
       "      <td>556920</td>\n",
       "      <td>Under-Graduate</td>\n",
       "      <td>1</td>\n",
       "    </tr>\n",
       "    <tr>\n",
       "      <th>27</th>\n",
       "      <td>40000</td>\n",
       "      <td>10000</td>\n",
       "      <td>4</td>\n",
       "      <td>0</td>\n",
       "      <td>412800</td>\n",
       "      <td>Under-Graduate</td>\n",
       "      <td>1</td>\n",
       "    </tr>\n",
       "    <tr>\n",
       "      <th>28</th>\n",
       "      <td>42000</td>\n",
       "      <td>15000</td>\n",
       "      <td>4</td>\n",
       "      <td>0</td>\n",
       "      <td>488880</td>\n",
       "      <td>Graduate</td>\n",
       "      <td>1</td>\n",
       "    </tr>\n",
       "    <tr>\n",
       "      <th>29</th>\n",
       "      <td>43000</td>\n",
       "      <td>12000</td>\n",
       "      <td>4</td>\n",
       "      <td>0</td>\n",
       "      <td>619200</td>\n",
       "      <td>Graduate</td>\n",
       "      <td>1</td>\n",
       "    </tr>\n",
       "    <tr>\n",
       "      <th>30</th>\n",
       "      <td>45000</td>\n",
       "      <td>25000</td>\n",
       "      <td>6</td>\n",
       "      <td>0</td>\n",
       "      <td>523800</td>\n",
       "      <td>Graduate</td>\n",
       "      <td>3</td>\n",
       "    </tr>\n",
       "    <tr>\n",
       "      <th>31</th>\n",
       "      <td>45000</td>\n",
       "      <td>40000</td>\n",
       "      <td>6</td>\n",
       "      <td>3500</td>\n",
       "      <td>507600</td>\n",
       "      <td>Professional</td>\n",
       "      <td>2</td>\n",
       "    </tr>\n",
       "    <tr>\n",
       "      <th>32</th>\n",
       "      <td>45000</td>\n",
       "      <td>10000</td>\n",
       "      <td>2</td>\n",
       "      <td>1000</td>\n",
       "      <td>437400</td>\n",
       "      <td>Post-Graduate</td>\n",
       "      <td>1</td>\n",
       "    </tr>\n",
       "    <tr>\n",
       "      <th>33</th>\n",
       "      <td>45000</td>\n",
       "      <td>22000</td>\n",
       "      <td>4</td>\n",
       "      <td>2500</td>\n",
       "      <td>610200</td>\n",
       "      <td>Post-Graduate</td>\n",
       "      <td>1</td>\n",
       "    </tr>\n",
       "    <tr>\n",
       "      <th>34</th>\n",
       "      <td>46000</td>\n",
       "      <td>25000</td>\n",
       "      <td>5</td>\n",
       "      <td>3500</td>\n",
       "      <td>596160</td>\n",
       "      <td>Graduate</td>\n",
       "      <td>1</td>\n",
       "    </tr>\n",
       "    <tr>\n",
       "      <th>35</th>\n",
       "      <td>47000</td>\n",
       "      <td>15000</td>\n",
       "      <td>7</td>\n",
       "      <td>0</td>\n",
       "      <td>456840</td>\n",
       "      <td>Professional</td>\n",
       "      <td>4</td>\n",
       "    </tr>\n",
       "    <tr>\n",
       "      <th>36</th>\n",
       "      <td>50000</td>\n",
       "      <td>20000</td>\n",
       "      <td>4</td>\n",
       "      <td>0</td>\n",
       "      <td>570000</td>\n",
       "      <td>Professional</td>\n",
       "      <td>1</td>\n",
       "    </tr>\n",
       "    <tr>\n",
       "      <th>37</th>\n",
       "      <td>50500</td>\n",
       "      <td>20000</td>\n",
       "      <td>3</td>\n",
       "      <td>0</td>\n",
       "      <td>581760</td>\n",
       "      <td>Professional</td>\n",
       "      <td>2</td>\n",
       "    </tr>\n",
       "    <tr>\n",
       "      <th>38</th>\n",
       "      <td>55000</td>\n",
       "      <td>45000</td>\n",
       "      <td>6</td>\n",
       "      <td>12000</td>\n",
       "      <td>600600</td>\n",
       "      <td>Graduate</td>\n",
       "      <td>2</td>\n",
       "    </tr>\n",
       "    <tr>\n",
       "      <th>39</th>\n",
       "      <td>60000</td>\n",
       "      <td>10000</td>\n",
       "      <td>3</td>\n",
       "      <td>0</td>\n",
       "      <td>590400</td>\n",
       "      <td>Post-Graduate</td>\n",
       "      <td>1</td>\n",
       "    </tr>\n",
       "    <tr>\n",
       "      <th>40</th>\n",
       "      <td>60000</td>\n",
       "      <td>50000</td>\n",
       "      <td>6</td>\n",
       "      <td>10000</td>\n",
       "      <td>590400</td>\n",
       "      <td>Graduate</td>\n",
       "      <td>1</td>\n",
       "    </tr>\n",
       "    <tr>\n",
       "      <th>41</th>\n",
       "      <td>65000</td>\n",
       "      <td>20000</td>\n",
       "      <td>4</td>\n",
       "      <td>5000</td>\n",
       "      <td>647400</td>\n",
       "      <td>Illiterate</td>\n",
       "      <td>2</td>\n",
       "    </tr>\n",
       "    <tr>\n",
       "      <th>42</th>\n",
       "      <td>70000</td>\n",
       "      <td>9000</td>\n",
       "      <td>2</td>\n",
       "      <td>0</td>\n",
       "      <td>756000</td>\n",
       "      <td>Graduate</td>\n",
       "      <td>1</td>\n",
       "    </tr>\n",
       "    <tr>\n",
       "      <th>43</th>\n",
       "      <td>80000</td>\n",
       "      <td>20000</td>\n",
       "      <td>4</td>\n",
       "      <td>0</td>\n",
       "      <td>1075200</td>\n",
       "      <td>Graduate</td>\n",
       "      <td>1</td>\n",
       "    </tr>\n",
       "    <tr>\n",
       "      <th>44</th>\n",
       "      <td>85000</td>\n",
       "      <td>25000</td>\n",
       "      <td>5</td>\n",
       "      <td>0</td>\n",
       "      <td>1142400</td>\n",
       "      <td>Under-Graduate</td>\n",
       "      <td>2</td>\n",
       "    </tr>\n",
       "    <tr>\n",
       "      <th>45</th>\n",
       "      <td>90000</td>\n",
       "      <td>48000</td>\n",
       "      <td>7</td>\n",
       "      <td>0</td>\n",
       "      <td>885600</td>\n",
       "      <td>Post-Graduate</td>\n",
       "      <td>3</td>\n",
       "    </tr>\n",
       "    <tr>\n",
       "      <th>46</th>\n",
       "      <td>98000</td>\n",
       "      <td>25000</td>\n",
       "      <td>5</td>\n",
       "      <td>0</td>\n",
       "      <td>1152480</td>\n",
       "      <td>Professional</td>\n",
       "      <td>2</td>\n",
       "    </tr>\n",
       "    <tr>\n",
       "      <th>47</th>\n",
       "      <td>100000</td>\n",
       "      <td>30000</td>\n",
       "      <td>6</td>\n",
       "      <td>0</td>\n",
       "      <td>1404000</td>\n",
       "      <td>Graduate</td>\n",
       "      <td>3</td>\n",
       "    </tr>\n",
       "    <tr>\n",
       "      <th>48</th>\n",
       "      <td>100000</td>\n",
       "      <td>50000</td>\n",
       "      <td>4</td>\n",
       "      <td>20000</td>\n",
       "      <td>1032000</td>\n",
       "      <td>Professional</td>\n",
       "      <td>2</td>\n",
       "    </tr>\n",
       "    <tr>\n",
       "      <th>49</th>\n",
       "      <td>100000</td>\n",
       "      <td>40000</td>\n",
       "      <td>6</td>\n",
       "      <td>10000</td>\n",
       "      <td>1320000</td>\n",
       "      <td>Post-Graduate</td>\n",
       "      <td>1</td>\n",
       "    </tr>\n",
       "  </tbody>\n",
       "</table>\n",
       "</div>"
      ],
      "text/plain": [
       "    Mthly_HH_Income  Mthly_HH_Expense  No_of_Fly_Members  Emi_or_Rent_Amt  \\\n",
       "0              5000              8000                  3             2000   \n",
       "1              6000              7000                  2             3000   \n",
       "2             10000              4500                  2                0   \n",
       "3             10000              2000                  1                0   \n",
       "4             12500             12000                  2             3000   \n",
       "5             14000              8000                  2                0   \n",
       "6             15000             16000                  3            35000   \n",
       "7             18000             20000                  5             8000   \n",
       "8             19000              9000                  2                0   \n",
       "9             20000              9000                  4                0   \n",
       "10            20000             18000                  4             8000   \n",
       "11            22000             25000                  6            12000   \n",
       "12            23400              5000                  3                0   \n",
       "13            24000             10500                  6                0   \n",
       "14            24000             10000                  4                0   \n",
       "15            25000             12300                  3                0   \n",
       "16            25000             20000                  3             3500   \n",
       "17            25000             10000                  6                0   \n",
       "18            29000              6600                  2             2000   \n",
       "19            30000             13000                  4                0   \n",
       "20            30500             25000                  5             5000   \n",
       "21            32000             15000                  4                0   \n",
       "22            34000             19000                  6                0   \n",
       "23            34000             25000                  3             4000   \n",
       "24            35000             12000                  3                0   \n",
       "25            35000             25000                  4                0   \n",
       "26            39000              8000                  4                0   \n",
       "27            40000             10000                  4                0   \n",
       "28            42000             15000                  4                0   \n",
       "29            43000             12000                  4                0   \n",
       "30            45000             25000                  6                0   \n",
       "31            45000             40000                  6             3500   \n",
       "32            45000             10000                  2             1000   \n",
       "33            45000             22000                  4             2500   \n",
       "34            46000             25000                  5             3500   \n",
       "35            47000             15000                  7                0   \n",
       "36            50000             20000                  4                0   \n",
       "37            50500             20000                  3                0   \n",
       "38            55000             45000                  6            12000   \n",
       "39            60000             10000                  3                0   \n",
       "40            60000             50000                  6            10000   \n",
       "41            65000             20000                  4             5000   \n",
       "42            70000              9000                  2                0   \n",
       "43            80000             20000                  4                0   \n",
       "44            85000             25000                  5                0   \n",
       "45            90000             48000                  7                0   \n",
       "46            98000             25000                  5                0   \n",
       "47           100000             30000                  6                0   \n",
       "48           100000             50000                  4            20000   \n",
       "49           100000             40000                  6            10000   \n",
       "\n",
       "    Annual_HH_Income Highest_Qualified_Member  No_of_Earning_Members  \n",
       "0              64200           Under-Graduate                      1  \n",
       "1              79920               Illiterate                      1  \n",
       "2             112800           Under-Graduate                      1  \n",
       "3              97200               Illiterate                      1  \n",
       "4             147000                 Graduate                      1  \n",
       "5             196560                 Graduate                      1  \n",
       "6             167400            Post-Graduate                      1  \n",
       "7             216000                 Graduate                      1  \n",
       "8             218880           Under-Graduate                      1  \n",
       "9             220800           Under-Graduate                      2  \n",
       "10            278400           Under-Graduate                      2  \n",
       "11            279840               Illiterate                      1  \n",
       "12            292032               Illiterate                      1  \n",
       "13            316800                 Graduate                      2  \n",
       "14            244800                 Graduate                      2  \n",
       "15            246000                 Graduate                      1  \n",
       "16            261000                 Graduate                      1  \n",
       "17            258000           Under-Graduate                      3  \n",
       "18            348000                 Graduate                      1  \n",
       "19            385200                 Graduate                      1  \n",
       "20            351360           Under-Graduate                      1  \n",
       "21            445440             Professional                      1  \n",
       "22            330480             Professional                      1  \n",
       "23            469200             Professional                      1  \n",
       "24            466200                 Graduate                      1  \n",
       "25            449400             Professional                      2  \n",
       "26            556920           Under-Graduate                      1  \n",
       "27            412800           Under-Graduate                      1  \n",
       "28            488880                 Graduate                      1  \n",
       "29            619200                 Graduate                      1  \n",
       "30            523800                 Graduate                      3  \n",
       "31            507600             Professional                      2  \n",
       "32            437400            Post-Graduate                      1  \n",
       "33            610200            Post-Graduate                      1  \n",
       "34            596160                 Graduate                      1  \n",
       "35            456840             Professional                      4  \n",
       "36            570000             Professional                      1  \n",
       "37            581760             Professional                      2  \n",
       "38            600600                 Graduate                      2  \n",
       "39            590400            Post-Graduate                      1  \n",
       "40            590400                 Graduate                      1  \n",
       "41            647400               Illiterate                      2  \n",
       "42            756000                 Graduate                      1  \n",
       "43           1075200                 Graduate                      1  \n",
       "44           1142400           Under-Graduate                      2  \n",
       "45            885600            Post-Graduate                      3  \n",
       "46           1152480             Professional                      2  \n",
       "47           1404000                 Graduate                      3  \n",
       "48           1032000             Professional                      2  \n",
       "49           1320000            Post-Graduate                      1  "
      ]
     },
     "execution_count": 3,
     "metadata": {},
     "output_type": "execute_result"
    }
   ],
   "source": [
    "file = pd.read_csv('/kaggle/input/incomeexpenditure-dataset/Inc_Exp_Data.csv')\n",
    "file"
   ]
  },
  {
   "cell_type": "code",
   "execution_count": 4,
   "id": "2658c50f",
   "metadata": {
    "execution": {
     "iopub.execute_input": "2024-05-08T21:45:12.041753Z",
     "iopub.status.busy": "2024-05-08T21:45:12.041367Z",
     "iopub.status.idle": "2024-05-08T21:45:12.048943Z",
     "shell.execute_reply": "2024-05-08T21:45:12.047763Z"
    },
    "papermill": {
     "duration": 0.01892,
     "end_time": "2024-05-08T21:45:12.051337",
     "exception": false,
     "start_time": "2024-05-08T21:45:12.032417",
     "status": "completed"
    },
    "tags": []
   },
   "outputs": [
    {
     "name": "stdout",
     "output_type": "stream",
     "text": [
      "Mean of monthly income:- 41558.0\n"
     ]
    }
   ],
   "source": [
    "mean_monthly = file['Mthly_HH_Income'].mean()\n",
    "print(\"Mean of monthly income:-\",mean_monthly)"
   ]
  },
  {
   "cell_type": "code",
   "execution_count": 5,
   "id": "91672e2b",
   "metadata": {
    "execution": {
     "iopub.execute_input": "2024-05-08T21:45:12.069887Z",
     "iopub.status.busy": "2024-05-08T21:45:12.069461Z",
     "iopub.status.idle": "2024-05-08T21:45:12.075811Z",
     "shell.execute_reply": "2024-05-08T21:45:12.074749Z"
    },
    "papermill": {
     "duration": 0.017941,
     "end_time": "2024-05-08T21:45:12.078212",
     "exception": false,
     "start_time": "2024-05-08T21:45:12.060271",
     "status": "completed"
    },
    "tags": []
   },
   "outputs": [
    {
     "name": "stdout",
     "output_type": "stream",
     "text": [
      "Mean of monthly expense:- 18818.0\n"
     ]
    }
   ],
   "source": [
    "mean_monthly_exp = file['Mthly_HH_Expense'].mean()\n",
    "print(\"Mean of monthly expense:-\",mean_monthly_exp)"
   ]
  },
  {
   "cell_type": "code",
   "execution_count": 6,
   "id": "fe992e04",
   "metadata": {
    "execution": {
     "iopub.execute_input": "2024-05-08T21:45:12.095593Z",
     "iopub.status.busy": "2024-05-08T21:45:12.095209Z",
     "iopub.status.idle": "2024-05-08T21:45:12.101899Z",
     "shell.execute_reply": "2024-05-08T21:45:12.100717Z"
    },
    "papermill": {
     "duration": 0.018088,
     "end_time": "2024-05-08T21:45:12.104184",
     "exception": false,
     "start_time": "2024-05-08T21:45:12.086096",
     "status": "completed"
    },
    "tags": []
   },
   "outputs": [
    {
     "name": "stdout",
     "output_type": "stream",
     "text": [
      "Mean of annual income:- 490019.04\n"
     ]
    }
   ],
   "source": [
    "mean_annual = file['Annual_HH_Income'].mean()\n",
    "print(\"Mean of annual income:-\",mean_annual)"
   ]
  },
  {
   "cell_type": "code",
   "execution_count": 7,
   "id": "dc06adf0",
   "metadata": {
    "execution": {
     "iopub.execute_input": "2024-05-08T21:45:12.121700Z",
     "iopub.status.busy": "2024-05-08T21:45:12.121310Z",
     "iopub.status.idle": "2024-05-08T21:45:12.127176Z",
     "shell.execute_reply": "2024-05-08T21:45:12.126138Z"
    },
    "papermill": {
     "duration": 0.018012,
     "end_time": "2024-05-08T21:45:12.130147",
     "exception": false,
     "start_time": "2024-05-08T21:45:12.112135",
     "status": "completed"
    },
    "tags": []
   },
   "outputs": [
    {
     "name": "stdout",
     "output_type": "stream",
     "text": [
      "Mean of EMI or Rent:- 3060.0\n"
     ]
    }
   ],
   "source": [
    "mean_emi = file['Emi_or_Rent_Amt'].mean()\n",
    "print(\"Mean of EMI or Rent:-\",mean_emi)"
   ]
  },
  {
   "cell_type": "code",
   "execution_count": 8,
   "id": "341724c1",
   "metadata": {
    "execution": {
     "iopub.execute_input": "2024-05-08T21:45:12.148068Z",
     "iopub.status.busy": "2024-05-08T21:45:12.147657Z",
     "iopub.status.idle": "2024-05-08T21:45:12.159156Z",
     "shell.execute_reply": "2024-05-08T21:45:12.157936Z"
    },
    "papermill": {
     "duration": 0.023564,
     "end_time": "2024-05-08T21:45:12.161744",
     "exception": false,
     "start_time": "2024-05-08T21:45:12.138180",
     "status": "completed"
    },
    "tags": []
   },
   "outputs": [
    {
     "name": "stdout",
     "output_type": "stream",
     "text": [
      "Median of monthly income:- 35000.0\n",
      "Median of monthly expense:- 15500.0\n",
      "Median of annual income:- 447420.0\n",
      "Median of EMI or Rent:- 0.0\n"
     ]
    }
   ],
   "source": [
    "median_monthly = file['Mthly_HH_Income'].median()\n",
    "print(\"Median of monthly income:-\",median_monthly)\n",
    "median_monthly_exp = file['Mthly_HH_Expense'].median()\n",
    "print(\"Median of monthly expense:-\",median_monthly_exp)\n",
    "median_annual = file['Annual_HH_Income'].median()\n",
    "print(\"Median of annual income:-\",median_annual)\n",
    "median_emi = file['Emi_or_Rent_Amt'].median()\n",
    "print(\"Median of EMI or Rent:-\",median_emi)"
   ]
  },
  {
   "cell_type": "code",
   "execution_count": 9,
   "id": "1f9a8216",
   "metadata": {
    "execution": {
     "iopub.execute_input": "2024-05-08T21:45:12.180159Z",
     "iopub.status.busy": "2024-05-08T21:45:12.179758Z",
     "iopub.status.idle": "2024-05-08T21:45:12.191955Z",
     "shell.execute_reply": "2024-05-08T21:45:12.190890Z"
    },
    "papermill": {
     "duration": 0.024702,
     "end_time": "2024-05-08T21:45:12.194756",
     "exception": false,
     "start_time": "2024-05-08T21:45:12.170054",
     "status": "completed"
    },
    "tags": []
   },
   "outputs": [
    {
     "name": "stdout",
     "output_type": "stream",
     "text": [
      "Mode of monthly income:- 0    45000\n",
      "Name: Mthly_HH_Income, dtype: int64\n",
      "Mode of monthly expense:- 0    25000\n",
      "Name: Mthly_HH_Expense, dtype: int64\n",
      "Mode of annual income:- 0    590400\n",
      "Name: Annual_HH_Income, dtype: int64\n",
      "Mode of EMI or Rent:- 0    0\n",
      "Name: Emi_or_Rent_Amt, dtype: int64\n"
     ]
    }
   ],
   "source": [
    "mode_monthly = file['Mthly_HH_Income'].mode()\n",
    "print(\"Mode of monthly income:-\",mode_monthly)\n",
    "mode_monthly_exp = file['Mthly_HH_Expense'].mode()\n",
    "print(\"Mode of monthly expense:-\",mode_monthly_exp)\n",
    "mode_annual = file['Annual_HH_Income'].mode()\n",
    "print(\"Mode of annual income:-\",mode_annual)\n",
    "mode_emi = file['Emi_or_Rent_Amt'].mode()\n",
    "print(\"Mode of EMI or Rent:-\",mode_emi)"
   ]
  },
  {
   "cell_type": "code",
   "execution_count": 10,
   "id": "d87efa70",
   "metadata": {
    "execution": {
     "iopub.execute_input": "2024-05-08T21:45:12.213689Z",
     "iopub.status.busy": "2024-05-08T21:45:12.213013Z",
     "iopub.status.idle": "2024-05-08T21:45:12.689028Z",
     "shell.execute_reply": "2024-05-08T21:45:12.687919Z"
    },
    "papermill": {
     "duration": 0.488468,
     "end_time": "2024-05-08T21:45:12.691775",
     "exception": false,
     "start_time": "2024-05-08T21:45:12.203307",
     "status": "completed"
    },
    "tags": []
   },
   "outputs": [
    {
     "data": {
      "text/plain": [
       "<Axes: xlabel='Mthly_HH_Income', ylabel='Count'>"
      ]
     },
     "execution_count": 10,
     "metadata": {},
     "output_type": "execute_result"
    },
    {
     "data": {
      "image/png": "[encoded data removed]",
      "text/plain": [
       "<Figure size 640x480 with 1 Axes>"
      ]
     },
     "metadata": {},
     "output_type": "display_data"
    }
   ],
   "source": [
    "data = file['Mthly_HH_Income']\n",
    "sns.histplot(data, bins=10, kde=True,label = 'Monthly Revenue (in millions)')"
   ]
  },
  {
   "cell_type": "code",
   "execution_count": 11,
   "id": "b62f22ba",
   "metadata": {
    "execution": {
     "iopub.execute_input": "2024-05-08T21:45:12.713108Z",
     "iopub.status.busy": "2024-05-08T21:45:12.712683Z",
     "iopub.status.idle": "2024-05-08T21:45:13.042322Z",
     "shell.execute_reply": "2024-05-08T21:45:13.041227Z"
    },
    "papermill": {
     "duration": 0.343793,
     "end_time": "2024-05-08T21:45:13.045006",
     "exception": false,
     "start_time": "2024-05-08T21:45:12.701213",
     "status": "completed"
    },
    "tags": []
   },
   "outputs": [
    {
     "data": {
      "text/plain": [
       "<Axes: xlabel='Mthly_HH_Expense', ylabel='Density'>"
      ]
     },
     "execution_count": 11,
     "metadata": {},
     "output_type": "execute_result"
    },
    {
     "data": {
      "image/png": "[encoded data removed]",
      "text/plain": [
       "<Figure size 640x480 with 1 Axes>"
      ]
     },
     "metadata": {},
     "output_type": "display_data"
    }
   ],
   "source": [
    "data = file['Mthly_HH_Expense']\n",
    "sns.distplot(data, bins=10, hist=True, kde=True,\n",
    "label = 'Monthly Expense (in millions)')"
   ]
  },
  {
   "cell_type": "code",
   "execution_count": 12,
   "id": "991ddb55",
   "metadata": {
    "execution": {
     "iopub.execute_input": "2024-05-08T21:45:13.066028Z",
     "iopub.status.busy": "2024-05-08T21:45:13.065239Z",
     "iopub.status.idle": "2024-05-08T21:45:13.072519Z",
     "shell.execute_reply": "2024-05-08T21:45:13.071311Z"
    },
    "papermill": {
     "duration": 0.02062,
     "end_time": "2024-05-08T21:45:13.075158",
     "exception": false,
     "start_time": "2024-05-08T21:45:13.054538",
     "status": "completed"
    },
    "tags": []
   },
   "outputs": [
    {
     "name": "stdout",
     "output_type": "stream",
     "text": [
      "1st Quartile Deviation of monthly income:- 23550.0\n"
     ]
    }
   ],
   "source": [
    "print(\"1st Quartile Deviation of monthly income:-\",\n",
    "file['Mthly_HH_Income'].quantile(0.25))"
   ]
  },
  {
   "cell_type": "code",
   "execution_count": 13,
   "id": "7f0e39ca",
   "metadata": {
    "execution": {
     "iopub.execute_input": "2024-05-08T21:45:13.096174Z",
     "iopub.status.busy": "2024-05-08T21:45:13.095766Z",
     "iopub.status.idle": "2024-05-08T21:45:13.108080Z",
     "shell.execute_reply": "2024-05-08T21:45:13.106772Z"
    },
    "papermill": {
     "duration": 0.025618,
     "end_time": "2024-05-08T21:45:13.110453",
     "exception": false,
     "start_time": "2024-05-08T21:45:13.084835",
     "status": "completed"
    },
    "tags": []
   },
   "outputs": [
    {
     "name": "stdout",
     "output_type": "stream",
     "text": [
      "Skewness of monthly income: 0.8966419872996332\n",
      "Skewness of monthly expense: 1.1631728469608633\n",
      "Skewness of annual income: 1.156858143785799\n",
      "Skewness of EMI or Rent: 3.3007064211477792\n"
     ]
    }
   ],
   "source": [
    "print(\"Skewness of monthly income:\", skew(file['Mthly_HH_Income']))\n",
    "print(\"Skewness of monthly expense:\", skew(file['Mthly_HH_Expense']))\n",
    "print(\"Skewness of annual income:\", skew(file['Annual_HH_Income']))\n",
    "print(\"Skewness of EMI or Rent:\", skew(file['Emi_or_Rent_Amt']))"
   ]
  },
  {
   "cell_type": "code",
   "execution_count": 14,
   "id": "e7d76eaf",
   "metadata": {
    "execution": {
     "iopub.execute_input": "2024-05-08T21:45:13.131597Z",
     "iopub.status.busy": "2024-05-08T21:45:13.131207Z",
     "iopub.status.idle": "2024-05-08T21:45:13.143145Z",
     "shell.execute_reply": "2024-05-08T21:45:13.142094Z"
    },
    "papermill": {
     "duration": 0.025191,
     "end_time": "2024-05-08T21:45:13.145534",
     "exception": false,
     "start_time": "2024-05-08T21:45:13.120343",
     "status": "completed"
    },
    "tags": []
   },
   "outputs": [
    {
     "name": "stdout",
     "output_type": "stream",
     "text": [
      "Kurtosis of monthly income: -0.013332948688498103\n",
      "Kurtosis of monthly expense: 0.7331960636897663\n",
      "Kurtosis of annual income: 0.87655548957901\n",
      "Kurtosis of EMI or Rent: 12.703838128758802\n"
     ]
    }
   ],
   "source": [
    "print(\"Kurtosis of monthly income:\", kurtosis(file['Mthly_HH_Income']))\n",
    "print(\"Kurtosis of monthly expense:\", kurtosis(file['Mthly_HH_Expense']))\n",
    "print(\"Kurtosis of annual income:\", kurtosis(file['Annual_HH_Income']))\n",
    "print(\"Kurtosis of EMI or Rent:\", kurtosis(file['Emi_or_Rent_Amt']))"
   ]
  },
  {
   "cell_type": "code",
   "execution_count": 15,
   "id": "64f03012",
   "metadata": {
    "execution": {
     "iopub.execute_input": "2024-05-08T21:45:13.166927Z",
     "iopub.status.busy": "2024-05-08T21:45:13.165953Z",
     "iopub.status.idle": "2024-05-08T21:45:13.194672Z",
     "shell.execute_reply": "2024-05-08T21:45:13.193648Z"
    },
    "papermill": {
     "duration": 0.041931,
     "end_time": "2024-05-08T21:45:13.197070",
     "exception": false,
     "start_time": "2024-05-08T21:45:13.155139",
     "status": "completed"
    },
    "tags": []
   },
   "outputs": [
    {
     "data": {
      "text/html": [
       "<div>\n",
       "<style scoped>\n",
       "    .dataframe tbody tr th:only-of-type {\n",
       "        vertical-align: middle;\n",
       "    }\n",
       "\n",
       "    .dataframe tbody tr th {\n",
       "        vertical-align: top;\n",
       "    }\n",
       "\n",
       "    .dataframe thead th {\n",
       "        text-align: right;\n",
       "    }\n",
       "</style>\n",
       "<table border=\"1\" class=\"dataframe\">\n",
       "  <thead>\n",
       "    <tr style=\"text-align: right;\">\n",
       "      <th></th>\n",
       "      <th>Id</th>\n",
       "      <th>SepalLengthCm</th>\n",
       "      <th>SepalWidthCm</th>\n",
       "      <th>PetalLengthCm</th>\n",
       "      <th>PetalWidthCm</th>\n",
       "      <th>Species</th>\n",
       "    </tr>\n",
       "  </thead>\n",
       "  <tbody>\n",
       "    <tr>\n",
       "      <th>0</th>\n",
       "      <td>1</td>\n",
       "      <td>5.1</td>\n",
       "      <td>3.5</td>\n",
       "      <td>1.4</td>\n",
       "      <td>0.2</td>\n",
       "      <td>Iris-setosa</td>\n",
       "    </tr>\n",
       "    <tr>\n",
       "      <th>1</th>\n",
       "      <td>2</td>\n",
       "      <td>4.9</td>\n",
       "      <td>3.0</td>\n",
       "      <td>1.4</td>\n",
       "      <td>0.2</td>\n",
       "      <td>Iris-setosa</td>\n",
       "    </tr>\n",
       "    <tr>\n",
       "      <th>2</th>\n",
       "      <td>3</td>\n",
       "      <td>4.7</td>\n",
       "      <td>3.2</td>\n",
       "      <td>1.3</td>\n",
       "      <td>0.2</td>\n",
       "      <td>Iris-setosa</td>\n",
       "    </tr>\n",
       "    <tr>\n",
       "      <th>3</th>\n",
       "      <td>4</td>\n",
       "      <td>4.6</td>\n",
       "      <td>3.1</td>\n",
       "      <td>1.5</td>\n",
       "      <td>0.2</td>\n",
       "      <td>Iris-setosa</td>\n",
       "    </tr>\n",
       "    <tr>\n",
       "      <th>4</th>\n",
       "      <td>5</td>\n",
       "      <td>5.0</td>\n",
       "      <td>3.6</td>\n",
       "      <td>1.4</td>\n",
       "      <td>0.2</td>\n",
       "      <td>Iris-setosa</td>\n",
       "    </tr>\n",
       "    <tr>\n",
       "      <th>...</th>\n",
       "      <td>...</td>\n",
       "      <td>...</td>\n",
       "      <td>...</td>\n",
       "      <td>...</td>\n",
       "      <td>...</td>\n",
       "      <td>...</td>\n",
       "    </tr>\n",
       "    <tr>\n",
       "      <th>145</th>\n",
       "      <td>146</td>\n",
       "      <td>6.7</td>\n",
       "      <td>3.0</td>\n",
       "      <td>5.2</td>\n",
       "      <td>2.3</td>\n",
       "      <td>Iris-virginica</td>\n",
       "    </tr>\n",
       "    <tr>\n",
       "      <th>146</th>\n",
       "      <td>147</td>\n",
       "      <td>6.3</td>\n",
       "      <td>2.5</td>\n",
       "      <td>5.0</td>\n",
       "      <td>1.9</td>\n",
       "      <td>Iris-virginica</td>\n",
       "    </tr>\n",
       "    <tr>\n",
       "      <th>147</th>\n",
       "      <td>148</td>\n",
       "      <td>6.5</td>\n",
       "      <td>3.0</td>\n",
       "      <td>5.2</td>\n",
       "      <td>2.0</td>\n",
       "      <td>Iris-virginica</td>\n",
       "    </tr>\n",
       "    <tr>\n",
       "      <th>148</th>\n",
       "      <td>149</td>\n",
       "      <td>6.2</td>\n",
       "      <td>3.4</td>\n",
       "      <td>5.4</td>\n",
       "      <td>2.3</td>\n",
       "      <td>Iris-virginica</td>\n",
       "    </tr>\n",
       "    <tr>\n",
       "      <th>149</th>\n",
       "      <td>150</td>\n",
       "      <td>5.9</td>\n",
       "      <td>3.0</td>\n",
       "      <td>5.1</td>\n",
       "      <td>1.8</td>\n",
       "      <td>Iris-virginica</td>\n",
       "    </tr>\n",
       "  </tbody>\n",
       "</table>\n",
       "<p>150 rows × 6 columns</p>\n",
       "</div>"
      ],
      "text/plain": [
       "      Id  SepalLengthCm  SepalWidthCm  PetalLengthCm  PetalWidthCm  \\\n",
       "0      1            5.1           3.5            1.4           0.2   \n",
       "1      2            4.9           3.0            1.4           0.2   \n",
       "2      3            4.7           3.2            1.3           0.2   \n",
       "3      4            4.6           3.1            1.5           0.2   \n",
       "4      5            5.0           3.6            1.4           0.2   \n",
       "..   ...            ...           ...            ...           ...   \n",
       "145  146            6.7           3.0            5.2           2.3   \n",
       "146  147            6.3           2.5            5.0           1.9   \n",
       "147  148            6.5           3.0            5.2           2.0   \n",
       "148  149            6.2           3.4            5.4           2.3   \n",
       "149  150            5.9           3.0            5.1           1.8   \n",
       "\n",
       "            Species  \n",
       "0       Iris-setosa  \n",
       "1       Iris-setosa  \n",
       "2       Iris-setosa  \n",
       "3       Iris-setosa  \n",
       "4       Iris-setosa  \n",
       "..              ...  \n",
       "145  Iris-virginica  \n",
       "146  Iris-virginica  \n",
       "147  Iris-virginica  \n",
       "148  Iris-virginica  \n",
       "149  Iris-virginica  \n",
       "\n",
       "[150 rows x 6 columns]"
      ]
     },
     "execution_count": 15,
     "metadata": {},
     "output_type": "execute_result"
    }
   ],
   "source": [
    "df = pd.read_csv(\"/kaggle/input/iris/Iris.csv\")\n",
    "df"
   ]
  },
  {
   "cell_type": "code",
   "execution_count": 16,
   "id": "868a8cb5",
   "metadata": {
    "execution": {
     "iopub.execute_input": "2024-05-08T21:45:13.219211Z",
     "iopub.status.busy": "2024-05-08T21:45:13.218827Z",
     "iopub.status.idle": "2024-05-08T21:45:13.226245Z",
     "shell.execute_reply": "2024-05-08T21:45:13.225171Z"
    },
    "papermill": {
     "duration": 0.021077,
     "end_time": "2024-05-08T21:45:13.228446",
     "exception": false,
     "start_time": "2024-05-08T21:45:13.207369",
     "status": "completed"
    },
    "tags": []
   },
   "outputs": [
    {
     "data": {
      "text/plain": [
       "6.9"
      ]
     },
     "execution_count": 16,
     "metadata": {},
     "output_type": "execute_result"
    }
   ],
   "source": [
    "df['PetalLengthCm'].max()\n",
    "#Do for each"
   ]
  },
  {
   "cell_type": "code",
   "execution_count": 17,
   "id": "34cbff23",
   "metadata": {
    "execution": {
     "iopub.execute_input": "2024-05-08T21:45:13.250924Z",
     "iopub.status.busy": "2024-05-08T21:45:13.250194Z",
     "iopub.status.idle": "2024-05-08T21:45:13.283044Z",
     "shell.execute_reply": "2024-05-08T21:45:13.282042Z"
    },
    "papermill": {
     "duration": 0.046733,
     "end_time": "2024-05-08T21:45:13.285522",
     "exception": false,
     "start_time": "2024-05-08T21:45:13.238789",
     "status": "completed"
    },
    "tags": []
   },
   "outputs": [
    {
     "name": "stdout",
     "output_type": "stream",
     "text": [
      "Statistical details for 'Iris-setosa':\n",
      "             Id  SepalLengthCm  SepalWidthCm  PetalLengthCm  PetalWidthCm\n",
      "count  50.00000       50.00000     50.000000      50.000000      50.00000\n",
      "mean   25.50000        5.00600      3.418000       1.464000       0.24400\n",
      "std    14.57738        0.35249      0.381024       0.173511       0.10721\n",
      "min     1.00000        4.30000      2.300000       1.000000       0.10000\n",
      "25%    13.25000        4.80000      3.125000       1.400000       0.20000\n",
      "50%    25.50000        5.00000      3.400000       1.500000       0.20000\n",
      "75%    37.75000        5.20000      3.675000       1.575000       0.30000\n",
      "max    50.00000        5.80000      4.400000       1.900000       0.60000\n"
     ]
    }
   ],
   "source": [
    "setosa = df['Species'] == 'Iris-setosa'\n",
    "print(\"Statistical details for 'Iris-setosa':\")\n",
    "df[setosa].describe()\n",
    "print(df[setosa].describe())\n",
    "#Do for each"
   ]
  },
  {
   "cell_type": "code",
   "execution_count": 18,
   "id": "cba8f4c9",
   "metadata": {
    "execution": {
     "iopub.execute_input": "2024-05-08T21:45:13.308114Z",
     "iopub.status.busy": "2024-05-08T21:45:13.307715Z",
     "iopub.status.idle": "2024-05-08T21:45:13.599908Z",
     "shell.execute_reply": "2024-05-08T21:45:13.598527Z"
    },
    "papermill": {
     "duration": 0.306434,
     "end_time": "2024-05-08T21:45:13.602568",
     "exception": false,
     "start_time": "2024-05-08T21:45:13.296134",
     "status": "completed"
    },
    "tags": []
   },
   "outputs": [
    {
     "data": {
      "text/plain": [
       "<Axes: xlabel='Species', ylabel='SepalLengthCm'>"
      ]
     },
     "execution_count": 18,
     "metadata": {},
     "output_type": "execute_result"
    },
    {
     "data": {
      "image/png": "[encoded data removed]",
      "text/plain": [
       "<Figure size 640x480 with 1 Axes>"
      ]
     },
     "metadata": {},
     "output_type": "display_data"
    }
   ],
   "source": [
    "sns.boxplot(x='Species', y='SepalLengthCm', data=df)\n",
    "#Do for each"
   ]
  },
  {
   "cell_type": "code",
   "execution_count": null,
   "id": "0c610d2f",
   "metadata": {
    "papermill": {
     "duration": 0.011537,
     "end_time": "2024-05-08T21:45:13.626094",
     "exception": false,
     "start_time": "2024-05-08T21:45:13.614557",
     "status": "completed"
    },
    "tags": []
   },
   "outputs": [],
   "source": []
  }
 ],
 "metadata": {
  "kaggle": {
   "accelerator": "none",
   "dataSources": [
    {
     "datasetId": 401774,
     "sourceId": 770823,
     "sourceType": "datasetVersion"
    },
    {
     "datasetId": 19,
     "sourceId": 420,
     "sourceType": "datasetVersion"
    }
   ],
   "dockerImageVersionId": 30698,
   "isGpuEnabled": false,
   "isInternetEnabled": true,
   "language": "python",
   "sourceType": "notebook"
  },
  "kernelspec": {
   "display_name": "Python 3",
   "language": "python",
   "name": "python3"
  },
  "language_info": {
   "codemirror_mode": {
    "name": "ipython",
    "version": 3
   },
   "file_extension": ".py",
   "mimetype": "text/x-python",
   "name": "python",
   "nbconvert_exporter": "python",
   "pygments_lexer": "ipython3",
   "version": "3.10.13"
  },
  "papermill": {
   "default_parameters": {},
   "duration": 7.494494,
   "end_time": "2024-05-08T21:45:14.260212",
   "environment_variables": {},
   "exception": null,
   "input_path": "__notebook__.ipynb",
   "output_path": "__notebook__.ipynb",
   "parameters": {},
   "start_time": "2024-05-08T21:45:06.765718",
   "version": "2.5.0"
  }
 },
 "nbformat": 4,
 "nbformat_minor": 5
}
